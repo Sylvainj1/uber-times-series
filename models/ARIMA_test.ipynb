{
 "cells": [
  {
   "cell_type": "code",
   "execution_count": 1,
   "metadata": {},
   "outputs": [],
   "source": [
    "# ARIMA and variant test ( sarimax, sarima etc...)"
   ]
  },
  {
   "cell_type": "code",
   "execution_count": 2,
   "metadata": {},
   "outputs": [],
   "source": [
    "import numpy as np\n",
    "import pandas as pd\n",
    "from scipy.stats import norm\n",
    "import statsmodels.api as sm\n",
    "import matplotlib.pyplot as plt\n",
    "from datetime import datetime\n",
    "import requests\n",
    "from io import BytesIO\n",
    "# Register converters to avoid warnings\n",
    "pd.plotting.register_matplotlib_converters()\n",
    "plt.rc(\"figure\", figsize=(14,4))\n",
    "plt.rc(\"font\", size=14)"
   ]
  },
  {
   "cell_type": "code",
   "execution_count": 280,
   "metadata": {},
   "outputs": [],
   "source": [
    "uber = pd.read_csv('../uber_data.csv',index_col = 0,parse_dates = ['pickup_dt'])"
   ]
  },
  {
   "cell_type": "code",
   "execution_count": 281,
   "metadata": {},
   "outputs": [],
   "source": [
    "uber_serie = uber[uber['borough'] == 'Manhattan']\n",
    "uber_serie = uber_serie[['pickups']]\n",
    "uber_serie = uber_serie[uber_serie.index < '2015-02-01']"
   ]
  },
  {
   "cell_type": "code",
   "execution_count": 282,
   "metadata": {},
   "outputs": [],
   "source": [
    "uber_serie = uber_serie.asfreq('d')"
   ]
  },
  {
   "cell_type": "code",
   "execution_count": 283,
   "metadata": {},
   "outputs": [
    {
     "data": {
      "text/html": [
       "\n",
       "\n",
       "\n",
       "\n",
       "\n",
       "\n",
       "  <div class=\"bk-root\" id=\"991fb744-49fa-4adf-a017-9dc7131957f9\" data-root-id=\"11967\"></div>\n"
      ]
     },
     "metadata": {},
     "output_type": "display_data"
    },
    {
     "data": {
      "application/javascript": [
       "(function(root) {\n",
       "  function embed_document(root) {\n",
       "    \n",
       "  var docs_json = {\"833eb4bb-48d7-48a1-8ea9-49341169371b\":{\"roots\":{\"references\":[{\"attributes\":{\"below\":[{\"id\":\"11978\"}],\"center\":[{\"id\":\"11981\"},{\"id\":\"11985\"},{\"id\":\"12026\"}],\"left\":[{\"id\":\"11982\"}],\"output_backend\":\"webgl\",\"plot_height\":400,\"renderers\":[{\"id\":\"12004\"}],\"sizing_mode\":\"fixed\",\"title\":{\"id\":\"11968\"},\"toolbar\":{\"id\":\"11993\"},\"x_range\":{\"id\":\"11970\"},\"x_scale\":{\"id\":\"11974\"},\"y_range\":{\"id\":\"11972\"},\"y_scale\":{\"id\":\"11976\"}},\"id\":\"11967\",\"subtype\":\"Figure\",\"type\":\"Plot\"},{\"attributes\":{\"months\":[0,6]},\"id\":\"12021\",\"type\":\"MonthsTicker\"},{\"attributes\":{},\"id\":\"12007\",\"type\":\"BasicTickFormatter\"},{\"attributes\":{\"num_minor_ticks\":5,\"tickers\":[{\"id\":\"12011\"},{\"id\":\"12012\"},{\"id\":\"12013\"},{\"id\":\"12014\"},{\"id\":\"12015\"},{\"id\":\"12016\"},{\"id\":\"12017\"},{\"id\":\"12018\"},{\"id\":\"12019\"},{\"id\":\"12020\"},{\"id\":\"12021\"},{\"id\":\"12022\"}]},\"id\":\"11979\",\"type\":\"DatetimeTicker\"},{\"attributes\":{\"days\":[1,15]},\"id\":\"12017\",\"type\":\"DaysTicker\"},{\"attributes\":{\"axis\":{\"id\":\"11978\"},\"ticker\":null},\"id\":\"11981\",\"type\":\"Grid\"},{\"attributes\":{\"mantissas\":[1,2,5],\"max_interval\":500.0,\"num_minor_ticks\":0},\"id\":\"12011\",\"type\":\"AdaptiveTicker\"},{\"attributes\":{},\"id\":\"12024\",\"type\":\"UnionRenderers\"},{\"attributes\":{},\"id\":\"12025\",\"type\":\"Selection\"},{\"attributes\":{},\"id\":\"11983\",\"type\":\"BasicTicker\"},{\"attributes\":{},\"id\":\"12022\",\"type\":\"YearsTicker\"},{\"attributes\":{\"axis\":{\"id\":\"11982\"},\"dimension\":1,\"ticker\":null},\"id\":\"11985\",\"type\":\"Grid\"},{\"attributes\":{\"days\":[1,8,15,22]},\"id\":\"12016\",\"type\":\"DaysTicker\"},{\"attributes\":{\"axis_label\":\"pickups\",\"formatter\":{\"id\":\"12007\"},\"ticker\":{\"id\":\"11983\"}},\"id\":\"11982\",\"type\":\"LinearAxis\"},{\"attributes\":{\"callback\":null,\"formatters\":{\"@__x__values_original\":\"datetime\"},\"mode\":\"vline\",\"renderers\":[{\"id\":\"12004\"}],\"tooltips\":[[\"pickup_dt\",\"@__x__values_original{%F}\"],[\"pickups\",\"@{pickups}\"]]},\"id\":\"12028\",\"type\":\"HoverTool\"},{\"attributes\":{\"days\":[1,2,3,4,5,6,7,8,9,10,11,12,13,14,15,16,17,18,19,20,21,22,23,24,25,26,27,28,29,30,31]},\"id\":\"12014\",\"type\":\"DaysTicker\"},{\"attributes\":{\"days\":[1,4,7,10,13,16,19,22,25,28]},\"id\":\"12015\",\"type\":\"DaysTicker\"},{\"attributes\":{},\"id\":\"11970\",\"type\":\"DataRange1d\"},{\"attributes\":{\"base\":24,\"mantissas\":[1,2,4,6,8,12],\"max_interval\":43200000.0,\"min_interval\":3600000.0,\"num_minor_ticks\":0},\"id\":\"12013\",\"type\":\"AdaptiveTicker\"},{\"attributes\":{\"months\":[0,2,4,6,8,10]},\"id\":\"12019\",\"type\":\"MonthsTicker\"},{\"attributes\":{\"base\":60,\"mantissas\":[1,2,5,10,15,20,30],\"max_interval\":1800000.0,\"min_interval\":1000.0,\"num_minor_ticks\":0},\"id\":\"12012\",\"type\":\"AdaptiveTicker\"},{\"attributes\":{\"data\":{\"__x__values\":{\"__ndarray__\":\"AADoGTCqdEIAAKh/gqp0QgAAaOXUqnRCAAAoSyerdEIAAOiweat0QgAAqBbMq3RCAABofB6sdEIAACjicKx0QgAA6EfDrHRCAACorRWtdEIAAGgTaK10QgAAKHm6rXRCAADo3gyudEIAAKhEX650QgAAaKqxrnRCAAAoEASvdEIAAOh1Vq90QgAAqNuor3RCAABoQfuvdEIAACinTbB0QgAA6AygsHRCAACocvKwdEIAAGjYRLF0QgAAKD6XsXRCAADoo+mxdEIAAKgJPLJ0QgAAaG+OsnRCAAAo1eCydEIAAOg6M7N0QgAAqKCFs3RCAABoBtizdEI=\",\"dtype\":\"float64\",\"order\":\"little\",\"shape\":[31]},\"__x__values_original\":{\"__ndarray__\":\"AADoGTCqdEIAAKh/gqp0QgAAaOXUqnRCAAAoSyerdEIAAOiweat0QgAAqBbMq3RCAABofB6sdEIAACjicKx0QgAA6EfDrHRCAACorRWtdEIAAGgTaK10QgAAKHm6rXRCAADo3gyudEIAAKhEX650QgAAaKqxrnRCAAAoEASvdEIAAOh1Vq90QgAAqNuor3RCAABoQfuvdEIAACinTbB0QgAA6AygsHRCAACocvKwdEIAAGjYRLF0QgAAKD6XsXRCAADoo+mxdEIAAKgJPLJ0QgAAaG+OsnRCAAAo1eCydEIAAOg6M7N0QgAAqKCFs3RCAABoBtizdEI=\",\"dtype\":\"float64\",\"order\":\"little\",\"shape\":[31]},\"pickups\":[5258,666,1263,1844,337,460,601,739,1080,2627,3583,397,592,806,816,1103,2581,2780,876,420,687,803,1126,2996,2978,442,0,394,721,1318,3586]},\"selected\":{\"id\":\"12025\"},\"selection_policy\":{\"id\":\"12024\"}},\"id\":\"12000\",\"type\":\"ColumnDataSource\"},{\"attributes\":{\"bottom_units\":\"screen\",\"fill_alpha\":0.5,\"fill_color\":\"lightgrey\",\"left_units\":\"screen\",\"level\":\"overlay\",\"line_alpha\":1.0,\"line_color\":\"black\",\"line_dash\":[4,4],\"line_width\":2,\"right_units\":\"screen\",\"top_units\":\"screen\"},\"id\":\"11992\",\"type\":\"BoxAnnotation\"},{\"attributes\":{\"active_drag\":\"auto\",\"active_inspect\":\"auto\",\"active_multi\":null,\"active_scroll\":{\"id\":\"11987\"},\"active_tap\":\"auto\",\"tools\":[{\"id\":\"11986\"},{\"id\":\"11987\"},{\"id\":\"11988\"},{\"id\":\"11989\"},{\"id\":\"11990\"},{\"id\":\"11991\"},{\"id\":\"12028\"}]},\"id\":\"11993\",\"type\":\"Toolbar\"},{\"attributes\":{\"text\":\"\"},\"id\":\"11968\",\"type\":\"Title\"},{\"attributes\":{\"days\":[\"%d %B %Y\"],\"hours\":[\"%H:%M:%S\"],\"milliseconds\":[\"%H:%M:%S.%f\"],\"minutes\":[\"%H:%M:%S\"],\"months\":[\"%d %B %Y\"],\"seconds\":[\"%H:%M:%S\"],\"years\":[\"%d %B %Y\"]},\"id\":\"12030\",\"type\":\"DatetimeTickFormatter\"},{\"attributes\":{},\"id\":\"11986\",\"type\":\"PanTool\"},{\"attributes\":{},\"id\":\"11974\",\"type\":\"LinearScale\"},{\"attributes\":{\"click_policy\":\"hide\",\"items\":[{\"id\":\"12027\"}]},\"id\":\"12026\",\"type\":\"Legend\"},{\"attributes\":{},\"id\":\"11987\",\"type\":\"WheelZoomTool\"},{\"attributes\":{\"months\":[0,4,8]},\"id\":\"12020\",\"type\":\"MonthsTicker\"},{\"attributes\":{\"data_source\":{\"id\":\"12000\"},\"glyph\":{\"id\":\"12002\"},\"hover_glyph\":null,\"muted_glyph\":null,\"nonselection_glyph\":{\"id\":\"12003\"},\"selection_glyph\":null,\"view\":{\"id\":\"12005\"}},\"id\":\"12004\",\"type\":\"GlyphRenderer\"},{\"attributes\":{\"overlay\":{\"id\":\"11992\"}},\"id\":\"11988\",\"type\":\"BoxZoomTool\"},{\"attributes\":{\"axis_label\":\"pickup_dt\",\"formatter\":{\"id\":\"12030\"},\"ticker\":{\"id\":\"11979\"}},\"id\":\"11978\",\"type\":\"DatetimeAxis\"},{\"attributes\":{},\"id\":\"11991\",\"type\":\"HelpTool\"},{\"attributes\":{},\"id\":\"11989\",\"type\":\"SaveTool\"},{\"attributes\":{\"source\":{\"id\":\"12000\"}},\"id\":\"12005\",\"type\":\"CDSView\"},{\"attributes\":{},\"id\":\"11990\",\"type\":\"ResetTool\"},{\"attributes\":{\"line_alpha\":0.1,\"line_color\":\"#1f77b4\",\"line_width\":2,\"x\":{\"field\":\"__x__values\"},\"y\":{\"field\":\"pickups\"}},\"id\":\"12003\",\"type\":\"Line\"},{\"attributes\":{\"months\":[0,1,2,3,4,5,6,7,8,9,10,11]},\"id\":\"12018\",\"type\":\"MonthsTicker\"},{\"attributes\":{},\"id\":\"11972\",\"type\":\"DataRange1d\"},{\"attributes\":{\"line_color\":\"#1f77b4\",\"line_width\":2,\"x\":{\"field\":\"__x__values\"},\"y\":{\"field\":\"pickups\"}},\"id\":\"12002\",\"type\":\"Line\"},{\"attributes\":{\"label\":{\"value\":\" pickups\"},\"renderers\":[{\"id\":\"12004\"}]},\"id\":\"12027\",\"type\":\"LegendItem\"},{\"attributes\":{},\"id\":\"11976\",\"type\":\"LinearScale\"}],\"root_ids\":[\"11967\"]},\"title\":\"Bokeh Application\",\"version\":\"2.2.1\"}};\n",
       "  var render_items = [{\"docid\":\"833eb4bb-48d7-48a1-8ea9-49341169371b\",\"root_ids\":[\"11967\"],\"roots\":{\"11967\":\"991fb744-49fa-4adf-a017-9dc7131957f9\"}}];\n",
       "  root.Bokeh.embed.embed_items_notebook(docs_json, render_items);\n",
       "\n",
       "  }\n",
       "  if (root.Bokeh !== undefined) {\n",
       "    embed_document(root);\n",
       "  } else {\n",
       "    var attempts = 0;\n",
       "    var timer = setInterval(function(root) {\n",
       "      if (root.Bokeh !== undefined) {\n",
       "        clearInterval(timer);\n",
       "        embed_document(root);\n",
       "      } else {\n",
       "        attempts++;\n",
       "        if (attempts > 100) {\n",
       "          clearInterval(timer);\n",
       "          console.log(\"Bokeh: ERROR: Unable to run BokehJS code because BokehJS library is missing\");\n",
       "        }\n",
       "      }\n",
       "    }, 10, root)\n",
       "  }\n",
       "})(window);"
      ],
      "application/vnd.bokehjs_exec.v0+json": ""
     },
     "metadata": {
      "application/vnd.bokehjs_exec.v0+json": {
       "id": "11967"
      }
     },
     "output_type": "display_data"
    },
    {
     "data": {
      "text/html": [
       "<div style=\"display: table;\"><div style=\"display: table-row;\"><div style=\"display: table-cell;\"><b title=\"bokeh.plotting.figure.Figure\">Figure</b>(</div><div style=\"display: table-cell;\">id&nbsp;=&nbsp;'11967', <span id=\"12246\" style=\"cursor: pointer;\">&hellip;)</span></div></div><div class=\"12245\" style=\"display: none;\"><div style=\"display: table-cell;\"></div><div style=\"display: table-cell;\">above&nbsp;=&nbsp;[],</div></div><div class=\"12245\" style=\"display: none;\"><div style=\"display: table-cell;\"></div><div style=\"display: table-cell;\">align&nbsp;=&nbsp;'start',</div></div><div class=\"12245\" style=\"display: none;\"><div style=\"display: table-cell;\"></div><div style=\"display: table-cell;\">aspect_ratio&nbsp;=&nbsp;None,</div></div><div class=\"12245\" style=\"display: none;\"><div style=\"display: table-cell;\"></div><div style=\"display: table-cell;\">aspect_scale&nbsp;=&nbsp;1,</div></div><div class=\"12245\" style=\"display: none;\"><div style=\"display: table-cell;\"></div><div style=\"display: table-cell;\">background&nbsp;=&nbsp;None,</div></div><div class=\"12245\" style=\"display: none;\"><div style=\"display: table-cell;\"></div><div style=\"display: table-cell;\">background_fill_alpha&nbsp;=&nbsp;1.0,</div></div><div class=\"12245\" style=\"display: none;\"><div style=\"display: table-cell;\"></div><div style=\"display: table-cell;\">background_fill_color&nbsp;=&nbsp;'#ffffff',</div></div><div class=\"12245\" style=\"display: none;\"><div style=\"display: table-cell;\"></div><div style=\"display: table-cell;\">below&nbsp;=&nbsp;[DatetimeAxis(id='11978', ...)],</div></div><div class=\"12245\" style=\"display: none;\"><div style=\"display: table-cell;\"></div><div style=\"display: table-cell;\">border_fill_alpha&nbsp;=&nbsp;1.0,</div></div><div class=\"12245\" style=\"display: none;\"><div style=\"display: table-cell;\"></div><div style=\"display: table-cell;\">border_fill_color&nbsp;=&nbsp;'#ffffff',</div></div><div class=\"12245\" style=\"display: none;\"><div style=\"display: table-cell;\"></div><div style=\"display: table-cell;\">center&nbsp;=&nbsp;[Grid(id='11981', ...), Grid(id='11985', ...), Legend(id='12026', ...)],</div></div><div class=\"12245\" style=\"display: none;\"><div style=\"display: table-cell;\"></div><div style=\"display: table-cell;\">css_classes&nbsp;=&nbsp;[],</div></div><div class=\"12245\" style=\"display: none;\"><div style=\"display: table-cell;\"></div><div style=\"display: table-cell;\">disabled&nbsp;=&nbsp;False,</div></div><div class=\"12245\" style=\"display: none;\"><div style=\"display: table-cell;\"></div><div style=\"display: table-cell;\">extra_x_ranges&nbsp;=&nbsp;{},</div></div><div class=\"12245\" style=\"display: none;\"><div style=\"display: table-cell;\"></div><div style=\"display: table-cell;\">extra_y_ranges&nbsp;=&nbsp;{},</div></div><div class=\"12245\" style=\"display: none;\"><div style=\"display: table-cell;\"></div><div style=\"display: table-cell;\">frame_height&nbsp;=&nbsp;None,</div></div><div class=\"12245\" style=\"display: none;\"><div style=\"display: table-cell;\"></div><div style=\"display: table-cell;\">frame_width&nbsp;=&nbsp;None,</div></div><div class=\"12245\" style=\"display: none;\"><div style=\"display: table-cell;\"></div><div style=\"display: table-cell;\">height&nbsp;=&nbsp;None,</div></div><div class=\"12245\" style=\"display: none;\"><div style=\"display: table-cell;\"></div><div style=\"display: table-cell;\">height_policy&nbsp;=&nbsp;'auto',</div></div><div class=\"12245\" style=\"display: none;\"><div style=\"display: table-cell;\"></div><div style=\"display: table-cell;\">hidpi&nbsp;=&nbsp;True,</div></div><div class=\"12245\" style=\"display: none;\"><div style=\"display: table-cell;\"></div><div style=\"display: table-cell;\">js_event_callbacks&nbsp;=&nbsp;{},</div></div><div class=\"12245\" style=\"display: none;\"><div style=\"display: table-cell;\"></div><div style=\"display: table-cell;\">js_property_callbacks&nbsp;=&nbsp;{},</div></div><div class=\"12245\" style=\"display: none;\"><div style=\"display: table-cell;\"></div><div style=\"display: table-cell;\">left&nbsp;=&nbsp;[LinearAxis(id='11982', ...)],</div></div><div class=\"12245\" style=\"display: none;\"><div style=\"display: table-cell;\"></div><div style=\"display: table-cell;\">lod_factor&nbsp;=&nbsp;10,</div></div><div class=\"12245\" style=\"display: none;\"><div style=\"display: table-cell;\"></div><div style=\"display: table-cell;\">lod_interval&nbsp;=&nbsp;300,</div></div><div class=\"12245\" style=\"display: none;\"><div style=\"display: table-cell;\"></div><div style=\"display: table-cell;\">lod_threshold&nbsp;=&nbsp;2000,</div></div><div class=\"12245\" style=\"display: none;\"><div style=\"display: table-cell;\"></div><div style=\"display: table-cell;\">lod_timeout&nbsp;=&nbsp;500,</div></div><div class=\"12245\" style=\"display: none;\"><div style=\"display: table-cell;\"></div><div style=\"display: table-cell;\">margin&nbsp;=&nbsp;(0, 0, 0, 0),</div></div><div class=\"12245\" style=\"display: none;\"><div style=\"display: table-cell;\"></div><div style=\"display: table-cell;\">match_aspect&nbsp;=&nbsp;False,</div></div><div class=\"12245\" style=\"display: none;\"><div style=\"display: table-cell;\"></div><div style=\"display: table-cell;\">max_height&nbsp;=&nbsp;None,</div></div><div class=\"12245\" style=\"display: none;\"><div style=\"display: table-cell;\"></div><div style=\"display: table-cell;\">max_width&nbsp;=&nbsp;None,</div></div><div class=\"12245\" style=\"display: none;\"><div style=\"display: table-cell;\"></div><div style=\"display: table-cell;\">min_border&nbsp;=&nbsp;5,</div></div><div class=\"12245\" style=\"display: none;\"><div style=\"display: table-cell;\"></div><div style=\"display: table-cell;\">min_border_bottom&nbsp;=&nbsp;None,</div></div><div class=\"12245\" style=\"display: none;\"><div style=\"display: table-cell;\"></div><div style=\"display: table-cell;\">min_border_left&nbsp;=&nbsp;None,</div></div><div class=\"12245\" style=\"display: none;\"><div style=\"display: table-cell;\"></div><div style=\"display: table-cell;\">min_border_right&nbsp;=&nbsp;None,</div></div><div class=\"12245\" style=\"display: none;\"><div style=\"display: table-cell;\"></div><div style=\"display: table-cell;\">min_border_top&nbsp;=&nbsp;None,</div></div><div class=\"12245\" style=\"display: none;\"><div style=\"display: table-cell;\"></div><div style=\"display: table-cell;\">min_height&nbsp;=&nbsp;None,</div></div><div class=\"12245\" style=\"display: none;\"><div style=\"display: table-cell;\"></div><div style=\"display: table-cell;\">min_width&nbsp;=&nbsp;None,</div></div><div class=\"12245\" style=\"display: none;\"><div style=\"display: table-cell;\"></div><div style=\"display: table-cell;\">name&nbsp;=&nbsp;None,</div></div><div class=\"12245\" style=\"display: none;\"><div style=\"display: table-cell;\"></div><div style=\"display: table-cell;\">outline_line_alpha&nbsp;=&nbsp;1.0,</div></div><div class=\"12245\" style=\"display: none;\"><div style=\"display: table-cell;\"></div><div style=\"display: table-cell;\">outline_line_cap&nbsp;=&nbsp;'butt',</div></div><div class=\"12245\" style=\"display: none;\"><div style=\"display: table-cell;\"></div><div style=\"display: table-cell;\">outline_line_color&nbsp;=&nbsp;'#e5e5e5',</div></div><div class=\"12245\" style=\"display: none;\"><div style=\"display: table-cell;\"></div><div style=\"display: table-cell;\">outline_line_dash&nbsp;=&nbsp;[],</div></div><div class=\"12245\" style=\"display: none;\"><div style=\"display: table-cell;\"></div><div style=\"display: table-cell;\">outline_line_dash_offset&nbsp;=&nbsp;0,</div></div><div class=\"12245\" style=\"display: none;\"><div style=\"display: table-cell;\"></div><div style=\"display: table-cell;\">outline_line_join&nbsp;=&nbsp;'bevel',</div></div><div class=\"12245\" style=\"display: none;\"><div style=\"display: table-cell;\"></div><div style=\"display: table-cell;\">outline_line_width&nbsp;=&nbsp;1,</div></div><div class=\"12245\" style=\"display: none;\"><div style=\"display: table-cell;\"></div><div style=\"display: table-cell;\">output_backend&nbsp;=&nbsp;'webgl',</div></div><div class=\"12245\" style=\"display: none;\"><div style=\"display: table-cell;\"></div><div style=\"display: table-cell;\">plot_height&nbsp;=&nbsp;400,</div></div><div class=\"12245\" style=\"display: none;\"><div style=\"display: table-cell;\"></div><div style=\"display: table-cell;\">plot_width&nbsp;=&nbsp;600,</div></div><div class=\"12245\" style=\"display: none;\"><div style=\"display: table-cell;\"></div><div style=\"display: table-cell;\">renderers&nbsp;=&nbsp;[GlyphRenderer(id='12004', ...)],</div></div><div class=\"12245\" style=\"display: none;\"><div style=\"display: table-cell;\"></div><div style=\"display: table-cell;\">reset_policy&nbsp;=&nbsp;'standard',</div></div><div class=\"12245\" style=\"display: none;\"><div style=\"display: table-cell;\"></div><div style=\"display: table-cell;\">right&nbsp;=&nbsp;[],</div></div><div class=\"12245\" style=\"display: none;\"><div style=\"display: table-cell;\"></div><div style=\"display: table-cell;\">sizing_mode&nbsp;=&nbsp;'fixed',</div></div><div class=\"12245\" style=\"display: none;\"><div style=\"display: table-cell;\"></div><div style=\"display: table-cell;\">subscribed_events&nbsp;=&nbsp;[],</div></div><div class=\"12245\" style=\"display: none;\"><div style=\"display: table-cell;\"></div><div style=\"display: table-cell;\">tags&nbsp;=&nbsp;[],</div></div><div class=\"12245\" style=\"display: none;\"><div style=\"display: table-cell;\"></div><div style=\"display: table-cell;\">title&nbsp;=&nbsp;Title(id='11968', ...),</div></div><div class=\"12245\" style=\"display: none;\"><div style=\"display: table-cell;\"></div><div style=\"display: table-cell;\">title_location&nbsp;=&nbsp;'above',</div></div><div class=\"12245\" style=\"display: none;\"><div style=\"display: table-cell;\"></div><div style=\"display: table-cell;\">toolbar&nbsp;=&nbsp;Toolbar(id='11993', ...),</div></div><div class=\"12245\" style=\"display: none;\"><div style=\"display: table-cell;\"></div><div style=\"display: table-cell;\">toolbar_location&nbsp;=&nbsp;'right',</div></div><div class=\"12245\" style=\"display: none;\"><div style=\"display: table-cell;\"></div><div style=\"display: table-cell;\">toolbar_sticky&nbsp;=&nbsp;True,</div></div><div class=\"12245\" style=\"display: none;\"><div style=\"display: table-cell;\"></div><div style=\"display: table-cell;\">visible&nbsp;=&nbsp;True,</div></div><div class=\"12245\" style=\"display: none;\"><div style=\"display: table-cell;\"></div><div style=\"display: table-cell;\">width&nbsp;=&nbsp;None,</div></div><div class=\"12245\" style=\"display: none;\"><div style=\"display: table-cell;\"></div><div style=\"display: table-cell;\">width_policy&nbsp;=&nbsp;'auto',</div></div><div class=\"12245\" style=\"display: none;\"><div style=\"display: table-cell;\"></div><div style=\"display: table-cell;\">x_range&nbsp;=&nbsp;DataRange1d(id='11970', ...),</div></div><div class=\"12245\" style=\"display: none;\"><div style=\"display: table-cell;\"></div><div style=\"display: table-cell;\">x_scale&nbsp;=&nbsp;LinearScale(id='11974', ...),</div></div><div class=\"12245\" style=\"display: none;\"><div style=\"display: table-cell;\"></div><div style=\"display: table-cell;\">y_range&nbsp;=&nbsp;DataRange1d(id='11972', ...),</div></div><div class=\"12245\" style=\"display: none;\"><div style=\"display: table-cell;\"></div><div style=\"display: table-cell;\">y_scale&nbsp;=&nbsp;LinearScale(id='11976', ...))</div></div></div>\n",
       "<script>\n",
       "(function() {\n",
       "  var expanded = false;\n",
       "  var ellipsis = document.getElementById(\"12246\");\n",
       "  ellipsis.addEventListener(\"click\", function() {\n",
       "    var rows = document.getElementsByClassName(\"12245\");\n",
       "    for (var i = 0; i < rows.length; i++) {\n",
       "      var el = rows[i];\n",
       "      el.style.display = expanded ? \"none\" : \"table-row\";\n",
       "    }\n",
       "    ellipsis.innerHTML = expanded ? \"&hellip;)\" : \"&lsaquo;&lsaquo;&lsaquo;\";\n",
       "    expanded = !expanded;\n",
       "  });\n",
       "})();\n",
       "</script>\n"
      ],
      "text/plain": [
       "Figure(id='11967', ...)"
      ]
     },
     "execution_count": 283,
     "metadata": {},
     "output_type": "execute_result"
    }
   ],
   "source": [
    "uber_serie.plot()"
   ]
  },
  {
   "cell_type": "markdown",
   "metadata": {},
   "source": [
    "Evaluer si la série est stationnaire ou non "
   ]
  },
  {
   "cell_type": "code",
   "execution_count": 284,
   "metadata": {},
   "outputs": [],
   "source": [
    "from statsmodels.tsa.stattools import adfuller, kpss"
   ]
  },
  {
   "cell_type": "code",
   "execution_count": 285,
   "metadata": {},
   "outputs": [
    {
     "name": "stdout",
     "output_type": "stream",
     "text": [
      "p-value adf :  1.864380056313484e-05\n"
     ]
    }
   ],
   "source": [
    "adf, pa, *_  = adfuller(uber_serie.dropna())\n",
    "print(\"p-value adf : \", pa)"
   ]
  },
  {
   "cell_type": "code",
   "execution_count": 286,
   "metadata": {},
   "outputs": [
    {
     "data": {
      "text/html": [
       "\n",
       "\n",
       "\n",
       "\n",
       "\n",
       "\n",
       "  <div class=\"bk-root\" id=\"bd582931-0da4-467e-82db-e285b250e7ce\" data-root-id=\"12248\"></div>\n"
      ]
     },
     "metadata": {},
     "output_type": "display_data"
    },
    {
     "data": {
      "application/javascript": [
       "(function(root) {\n",
       "  function embed_document(root) {\n",
       "    \n",
       "  var docs_json = {\"fa1488f8-438e-4d65-9c8e-d379c82b03c9\":{\"roots\":{\"references\":[{\"attributes\":{\"below\":[{\"id\":\"12259\"}],\"center\":[{\"id\":\"12262\"},{\"id\":\"12266\"},{\"id\":\"12307\"}],\"left\":[{\"id\":\"12263\"}],\"output_backend\":\"webgl\",\"plot_height\":400,\"renderers\":[{\"id\":\"12285\"}],\"sizing_mode\":\"fixed\",\"title\":{\"id\":\"12249\"},\"toolbar\":{\"id\":\"12274\"},\"x_range\":{\"id\":\"12251\"},\"x_scale\":{\"id\":\"12255\"},\"y_range\":{\"id\":\"12253\"},\"y_scale\":{\"id\":\"12257\"}},\"id\":\"12248\",\"subtype\":\"Figure\",\"type\":\"Plot\"},{\"attributes\":{\"days\":[1,2,3,4,5,6,7,8,9,10,11,12,13,14,15,16,17,18,19,20,21,22,23,24,25,26,27,28,29,30,31]},\"id\":\"12295\",\"type\":\"DaysTicker\"},{\"attributes\":{\"label\":{\"value\":\" pickups\"},\"renderers\":[{\"id\":\"12285\"}]},\"id\":\"12308\",\"type\":\"LegendItem\"},{\"attributes\":{},\"id\":\"12270\",\"type\":\"SaveTool\"},{\"attributes\":{\"callback\":null,\"formatters\":{\"@__x__values_original\":\"datetime\"},\"mode\":\"vline\",\"renderers\":[{\"id\":\"12285\"}],\"tooltips\":[[\"pickup_dt\",\"@__x__values_original{%F}\"],[\"pickups\",\"@{pickups}\"]]},\"id\":\"12309\",\"type\":\"HoverTool\"},{\"attributes\":{\"days\":[1,15]},\"id\":\"12298\",\"type\":\"DaysTicker\"},{\"attributes\":{},\"id\":\"12267\",\"type\":\"PanTool\"},{\"attributes\":{\"bottom_units\":\"screen\",\"fill_alpha\":0.5,\"fill_color\":\"lightgrey\",\"left_units\":\"screen\",\"level\":\"overlay\",\"line_alpha\":1.0,\"line_color\":\"black\",\"line_dash\":[4,4],\"line_width\":2,\"right_units\":\"screen\",\"top_units\":\"screen\"},\"id\":\"12273\",\"type\":\"BoxAnnotation\"},{\"attributes\":{\"days\":[1,4,7,10,13,16,19,22,25,28]},\"id\":\"12296\",\"type\":\"DaysTicker\"},{\"attributes\":{\"days\":[1,8,15,22]},\"id\":\"12297\",\"type\":\"DaysTicker\"},{\"attributes\":{},\"id\":\"12251\",\"type\":\"DataRange1d\"},{\"attributes\":{\"overlay\":{\"id\":\"12273\"}},\"id\":\"12269\",\"type\":\"BoxZoomTool\"},{\"attributes\":{\"mantissas\":[1,2,5],\"max_interval\":500.0,\"num_minor_ticks\":0},\"id\":\"12292\",\"type\":\"AdaptiveTicker\"},{\"attributes\":{\"base\":60,\"mantissas\":[1,2,5,10,15,20,30],\"max_interval\":1800000.0,\"min_interval\":1000.0,\"num_minor_ticks\":0},\"id\":\"12293\",\"type\":\"AdaptiveTicker\"},{\"attributes\":{\"months\":[0,1,2,3,4,5,6,7,8,9,10,11]},\"id\":\"12299\",\"type\":\"MonthsTicker\"},{\"attributes\":{\"line_color\":\"#1f77b4\",\"line_width\":2,\"x\":{\"field\":\"__x__values\"},\"y\":{\"field\":\"pickups\"}},\"id\":\"12283\",\"type\":\"Line\"},{\"attributes\":{\"axis\":{\"id\":\"12263\"},\"dimension\":1,\"ticker\":null},\"id\":\"12266\",\"type\":\"Grid\"},{\"attributes\":{\"axis\":{\"id\":\"12259\"},\"ticker\":null},\"id\":\"12262\",\"type\":\"Grid\"},{\"attributes\":{\"axis_label\":\"pickups\",\"formatter\":{\"id\":\"12288\"},\"ticker\":{\"id\":\"12264\"}},\"id\":\"12263\",\"type\":\"LinearAxis\"},{\"attributes\":{\"click_policy\":\"hide\",\"items\":[{\"id\":\"12308\"}]},\"id\":\"12307\",\"type\":\"Legend\"},{\"attributes\":{},\"id\":\"12306\",\"type\":\"Selection\"},{\"attributes\":{},\"id\":\"12288\",\"type\":\"BasicTickFormatter\"},{\"attributes\":{\"source\":{\"id\":\"12281\"}},\"id\":\"12286\",\"type\":\"CDSView\"},{\"attributes\":{\"months\":[0,4,8]},\"id\":\"12301\",\"type\":\"MonthsTicker\"},{\"attributes\":{\"axis_label\":\"pickup_dt\",\"formatter\":{\"id\":\"12311\"},\"ticker\":{\"id\":\"12260\"}},\"id\":\"12259\",\"type\":\"DatetimeAxis\"},{\"attributes\":{},\"id\":\"12271\",\"type\":\"ResetTool\"},{\"attributes\":{},\"id\":\"12272\",\"type\":\"HelpTool\"},{\"attributes\":{},\"id\":\"12253\",\"type\":\"DataRange1d\"},{\"attributes\":{\"data_source\":{\"id\":\"12281\"},\"glyph\":{\"id\":\"12283\"},\"hover_glyph\":null,\"muted_glyph\":null,\"nonselection_glyph\":{\"id\":\"12284\"},\"selection_glyph\":null,\"view\":{\"id\":\"12286\"}},\"id\":\"12285\",\"type\":\"GlyphRenderer\"},{\"attributes\":{},\"id\":\"12268\",\"type\":\"WheelZoomTool\"},{\"attributes\":{},\"id\":\"12257\",\"type\":\"LinearScale\"},{\"attributes\":{},\"id\":\"12264\",\"type\":\"BasicTicker\"},{\"attributes\":{\"data\":{\"__x__values\":{\"__ndarray__\":\"AADoGTCqdEIAAKh/gqp0QgAAaOXUqnRCAAAoSyerdEIAAOiweat0QgAAqBbMq3RCAABofB6sdEIAACjicKx0QgAA6EfDrHRCAACorRWtdEIAAGgTaK10QgAAKHm6rXRCAADo3gyudEIAAKhEX650QgAAaKqxrnRCAAAoEASvdEIAAOh1Vq90QgAAqNuor3RCAABoQfuvdEIAACinTbB0QgAA6AygsHRCAACocvKwdEIAAGjYRLF0QgAAKD6XsXRCAADoo+mxdEIAAKgJPLJ0QgAAaG+OsnRCAAAo1eCydEIAAOg6M7N0QgAAqKCFs3RCAABoBtizdEI=\",\"dtype\":\"float64\",\"order\":\"little\",\"shape\":[31]},\"__x__values_original\":{\"__ndarray__\":\"AADoGTCqdEIAAKh/gqp0QgAAaOXUqnRCAAAoSyerdEIAAOiweat0QgAAqBbMq3RCAABofB6sdEIAACjicKx0QgAA6EfDrHRCAACorRWtdEIAAGgTaK10QgAAKHm6rXRCAADo3gyudEIAAKhEX650QgAAaKqxrnRCAAAoEASvdEIAAOh1Vq90QgAAqNuor3RCAABoQfuvdEIAACinTbB0QgAA6AygsHRCAACocvKwdEIAAGjYRLF0QgAAKD6XsXRCAADoo+mxdEIAAKgJPLJ0QgAAaG+OsnRCAAAo1eCydEIAAOg6M7N0QgAAqKCFs3RCAABoBtizdEI=\",\"dtype\":\"float64\",\"order\":\"little\",\"shape\":[31]},\"pickups\":[5258,666,1263,1844,337,460,601,739,1080,2627,3583,397,592,806,816,1103,2581,2780,876,420,687,803,1126,2996,2978,442,0,394,721,1318,3586]},\"selected\":{\"id\":\"12306\"},\"selection_policy\":{\"id\":\"12305\"}},\"id\":\"12281\",\"type\":\"ColumnDataSource\"},{\"attributes\":{\"line_alpha\":0.1,\"line_color\":\"#1f77b4\",\"line_width\":2,\"x\":{\"field\":\"__x__values\"},\"y\":{\"field\":\"pickups\"}},\"id\":\"12284\",\"type\":\"Line\"},{\"attributes\":{\"num_minor_ticks\":5,\"tickers\":[{\"id\":\"12292\"},{\"id\":\"12293\"},{\"id\":\"12294\"},{\"id\":\"12295\"},{\"id\":\"12296\"},{\"id\":\"12297\"},{\"id\":\"12298\"},{\"id\":\"12299\"},{\"id\":\"12300\"},{\"id\":\"12301\"},{\"id\":\"12302\"},{\"id\":\"12303\"}]},\"id\":\"12260\",\"type\":\"DatetimeTicker\"},{\"attributes\":{\"months\":[0,2,4,6,8,10]},\"id\":\"12300\",\"type\":\"MonthsTicker\"},{\"attributes\":{\"days\":[\"%d %B %Y\"],\"hours\":[\"%H:%M:%S\"],\"milliseconds\":[\"%H:%M:%S.%f\"],\"minutes\":[\"%H:%M:%S\"],\"months\":[\"%d %B %Y\"],\"seconds\":[\"%H:%M:%S\"],\"years\":[\"%d %B %Y\"]},\"id\":\"12311\",\"type\":\"DatetimeTickFormatter\"},{\"attributes\":{},\"id\":\"12303\",\"type\":\"YearsTicker\"},{\"attributes\":{},\"id\":\"12305\",\"type\":\"UnionRenderers\"},{\"attributes\":{},\"id\":\"12255\",\"type\":\"LinearScale\"},{\"attributes\":{\"months\":[0,6]},\"id\":\"12302\",\"type\":\"MonthsTicker\"},{\"attributes\":{\"text\":\"\"},\"id\":\"12249\",\"type\":\"Title\"},{\"attributes\":{\"base\":24,\"mantissas\":[1,2,4,6,8,12],\"max_interval\":43200000.0,\"min_interval\":3600000.0,\"num_minor_ticks\":0},\"id\":\"12294\",\"type\":\"AdaptiveTicker\"},{\"attributes\":{\"active_drag\":\"auto\",\"active_inspect\":\"auto\",\"active_multi\":null,\"active_scroll\":{\"id\":\"12268\"},\"active_tap\":\"auto\",\"tools\":[{\"id\":\"12267\"},{\"id\":\"12268\"},{\"id\":\"12269\"},{\"id\":\"12270\"},{\"id\":\"12271\"},{\"id\":\"12272\"},{\"id\":\"12309\"}]},\"id\":\"12274\",\"type\":\"Toolbar\"}],\"root_ids\":[\"12248\"]},\"title\":\"Bokeh Application\",\"version\":\"2.2.1\"}};\n",
       "  var render_items = [{\"docid\":\"fa1488f8-438e-4d65-9c8e-d379c82b03c9\",\"root_ids\":[\"12248\"],\"roots\":{\"12248\":\"bd582931-0da4-467e-82db-e285b250e7ce\"}}];\n",
       "  root.Bokeh.embed.embed_items_notebook(docs_json, render_items);\n",
       "\n",
       "  }\n",
       "  if (root.Bokeh !== undefined) {\n",
       "    embed_document(root);\n",
       "  } else {\n",
       "    var attempts = 0;\n",
       "    var timer = setInterval(function(root) {\n",
       "      if (root.Bokeh !== undefined) {\n",
       "        clearInterval(timer);\n",
       "        embed_document(root);\n",
       "      } else {\n",
       "        attempts++;\n",
       "        if (attempts > 100) {\n",
       "          clearInterval(timer);\n",
       "          console.log(\"Bokeh: ERROR: Unable to run BokehJS code because BokehJS library is missing\");\n",
       "        }\n",
       "      }\n",
       "    }, 10, root)\n",
       "  }\n",
       "})(window);"
      ],
      "application/vnd.bokehjs_exec.v0+json": ""
     },
     "metadata": {
      "application/vnd.bokehjs_exec.v0+json": {
       "id": "12248"
      }
     },
     "output_type": "display_data"
    },
    {
     "data": {
      "text/html": [
       "<div style=\"display: table;\"><div style=\"display: table-row;\"><div style=\"display: table-cell;\"><b title=\"bokeh.plotting.figure.Figure\">Figure</b>(</div><div style=\"display: table-cell;\">id&nbsp;=&nbsp;'12248', <span id=\"12546\" style=\"cursor: pointer;\">&hellip;)</span></div></div><div class=\"12545\" style=\"display: none;\"><div style=\"display: table-cell;\"></div><div style=\"display: table-cell;\">above&nbsp;=&nbsp;[],</div></div><div class=\"12545\" style=\"display: none;\"><div style=\"display: table-cell;\"></div><div style=\"display: table-cell;\">align&nbsp;=&nbsp;'start',</div></div><div class=\"12545\" style=\"display: none;\"><div style=\"display: table-cell;\"></div><div style=\"display: table-cell;\">aspect_ratio&nbsp;=&nbsp;None,</div></div><div class=\"12545\" style=\"display: none;\"><div style=\"display: table-cell;\"></div><div style=\"display: table-cell;\">aspect_scale&nbsp;=&nbsp;1,</div></div><div class=\"12545\" style=\"display: none;\"><div style=\"display: table-cell;\"></div><div style=\"display: table-cell;\">background&nbsp;=&nbsp;None,</div></div><div class=\"12545\" style=\"display: none;\"><div style=\"display: table-cell;\"></div><div style=\"display: table-cell;\">background_fill_alpha&nbsp;=&nbsp;1.0,</div></div><div class=\"12545\" style=\"display: none;\"><div style=\"display: table-cell;\"></div><div style=\"display: table-cell;\">background_fill_color&nbsp;=&nbsp;'#ffffff',</div></div><div class=\"12545\" style=\"display: none;\"><div style=\"display: table-cell;\"></div><div style=\"display: table-cell;\">below&nbsp;=&nbsp;[DatetimeAxis(id='12259', ...)],</div></div><div class=\"12545\" style=\"display: none;\"><div style=\"display: table-cell;\"></div><div style=\"display: table-cell;\">border_fill_alpha&nbsp;=&nbsp;1.0,</div></div><div class=\"12545\" style=\"display: none;\"><div style=\"display: table-cell;\"></div><div style=\"display: table-cell;\">border_fill_color&nbsp;=&nbsp;'#ffffff',</div></div><div class=\"12545\" style=\"display: none;\"><div style=\"display: table-cell;\"></div><div style=\"display: table-cell;\">center&nbsp;=&nbsp;[Grid(id='12262', ...), Grid(id='12266', ...), Legend(id='12307', ...)],</div></div><div class=\"12545\" style=\"display: none;\"><div style=\"display: table-cell;\"></div><div style=\"display: table-cell;\">css_classes&nbsp;=&nbsp;[],</div></div><div class=\"12545\" style=\"display: none;\"><div style=\"display: table-cell;\"></div><div style=\"display: table-cell;\">disabled&nbsp;=&nbsp;False,</div></div><div class=\"12545\" style=\"display: none;\"><div style=\"display: table-cell;\"></div><div style=\"display: table-cell;\">extra_x_ranges&nbsp;=&nbsp;{},</div></div><div class=\"12545\" style=\"display: none;\"><div style=\"display: table-cell;\"></div><div style=\"display: table-cell;\">extra_y_ranges&nbsp;=&nbsp;{},</div></div><div class=\"12545\" style=\"display: none;\"><div style=\"display: table-cell;\"></div><div style=\"display: table-cell;\">frame_height&nbsp;=&nbsp;None,</div></div><div class=\"12545\" style=\"display: none;\"><div style=\"display: table-cell;\"></div><div style=\"display: table-cell;\">frame_width&nbsp;=&nbsp;None,</div></div><div class=\"12545\" style=\"display: none;\"><div style=\"display: table-cell;\"></div><div style=\"display: table-cell;\">height&nbsp;=&nbsp;None,</div></div><div class=\"12545\" style=\"display: none;\"><div style=\"display: table-cell;\"></div><div style=\"display: table-cell;\">height_policy&nbsp;=&nbsp;'auto',</div></div><div class=\"12545\" style=\"display: none;\"><div style=\"display: table-cell;\"></div><div style=\"display: table-cell;\">hidpi&nbsp;=&nbsp;True,</div></div><div class=\"12545\" style=\"display: none;\"><div style=\"display: table-cell;\"></div><div style=\"display: table-cell;\">js_event_callbacks&nbsp;=&nbsp;{},</div></div><div class=\"12545\" style=\"display: none;\"><div style=\"display: table-cell;\"></div><div style=\"display: table-cell;\">js_property_callbacks&nbsp;=&nbsp;{},</div></div><div class=\"12545\" style=\"display: none;\"><div style=\"display: table-cell;\"></div><div style=\"display: table-cell;\">left&nbsp;=&nbsp;[LinearAxis(id='12263', ...)],</div></div><div class=\"12545\" style=\"display: none;\"><div style=\"display: table-cell;\"></div><div style=\"display: table-cell;\">lod_factor&nbsp;=&nbsp;10,</div></div><div class=\"12545\" style=\"display: none;\"><div style=\"display: table-cell;\"></div><div style=\"display: table-cell;\">lod_interval&nbsp;=&nbsp;300,</div></div><div class=\"12545\" style=\"display: none;\"><div style=\"display: table-cell;\"></div><div style=\"display: table-cell;\">lod_threshold&nbsp;=&nbsp;2000,</div></div><div class=\"12545\" style=\"display: none;\"><div style=\"display: table-cell;\"></div><div style=\"display: table-cell;\">lod_timeout&nbsp;=&nbsp;500,</div></div><div class=\"12545\" style=\"display: none;\"><div style=\"display: table-cell;\"></div><div style=\"display: table-cell;\">margin&nbsp;=&nbsp;(0, 0, 0, 0),</div></div><div class=\"12545\" style=\"display: none;\"><div style=\"display: table-cell;\"></div><div style=\"display: table-cell;\">match_aspect&nbsp;=&nbsp;False,</div></div><div class=\"12545\" style=\"display: none;\"><div style=\"display: table-cell;\"></div><div style=\"display: table-cell;\">max_height&nbsp;=&nbsp;None,</div></div><div class=\"12545\" style=\"display: none;\"><div style=\"display: table-cell;\"></div><div style=\"display: table-cell;\">max_width&nbsp;=&nbsp;None,</div></div><div class=\"12545\" style=\"display: none;\"><div style=\"display: table-cell;\"></div><div style=\"display: table-cell;\">min_border&nbsp;=&nbsp;5,</div></div><div class=\"12545\" style=\"display: none;\"><div style=\"display: table-cell;\"></div><div style=\"display: table-cell;\">min_border_bottom&nbsp;=&nbsp;None,</div></div><div class=\"12545\" style=\"display: none;\"><div style=\"display: table-cell;\"></div><div style=\"display: table-cell;\">min_border_left&nbsp;=&nbsp;None,</div></div><div class=\"12545\" style=\"display: none;\"><div style=\"display: table-cell;\"></div><div style=\"display: table-cell;\">min_border_right&nbsp;=&nbsp;None,</div></div><div class=\"12545\" style=\"display: none;\"><div style=\"display: table-cell;\"></div><div style=\"display: table-cell;\">min_border_top&nbsp;=&nbsp;None,</div></div><div class=\"12545\" style=\"display: none;\"><div style=\"display: table-cell;\"></div><div style=\"display: table-cell;\">min_height&nbsp;=&nbsp;None,</div></div><div class=\"12545\" style=\"display: none;\"><div style=\"display: table-cell;\"></div><div style=\"display: table-cell;\">min_width&nbsp;=&nbsp;None,</div></div><div class=\"12545\" style=\"display: none;\"><div style=\"display: table-cell;\"></div><div style=\"display: table-cell;\">name&nbsp;=&nbsp;None,</div></div><div class=\"12545\" style=\"display: none;\"><div style=\"display: table-cell;\"></div><div style=\"display: table-cell;\">outline_line_alpha&nbsp;=&nbsp;1.0,</div></div><div class=\"12545\" style=\"display: none;\"><div style=\"display: table-cell;\"></div><div style=\"display: table-cell;\">outline_line_cap&nbsp;=&nbsp;'butt',</div></div><div class=\"12545\" style=\"display: none;\"><div style=\"display: table-cell;\"></div><div style=\"display: table-cell;\">outline_line_color&nbsp;=&nbsp;'#e5e5e5',</div></div><div class=\"12545\" style=\"display: none;\"><div style=\"display: table-cell;\"></div><div style=\"display: table-cell;\">outline_line_dash&nbsp;=&nbsp;[],</div></div><div class=\"12545\" style=\"display: none;\"><div style=\"display: table-cell;\"></div><div style=\"display: table-cell;\">outline_line_dash_offset&nbsp;=&nbsp;0,</div></div><div class=\"12545\" style=\"display: none;\"><div style=\"display: table-cell;\"></div><div style=\"display: table-cell;\">outline_line_join&nbsp;=&nbsp;'bevel',</div></div><div class=\"12545\" style=\"display: none;\"><div style=\"display: table-cell;\"></div><div style=\"display: table-cell;\">outline_line_width&nbsp;=&nbsp;1,</div></div><div class=\"12545\" style=\"display: none;\"><div style=\"display: table-cell;\"></div><div style=\"display: table-cell;\">output_backend&nbsp;=&nbsp;'webgl',</div></div><div class=\"12545\" style=\"display: none;\"><div style=\"display: table-cell;\"></div><div style=\"display: table-cell;\">plot_height&nbsp;=&nbsp;400,</div></div><div class=\"12545\" style=\"display: none;\"><div style=\"display: table-cell;\"></div><div style=\"display: table-cell;\">plot_width&nbsp;=&nbsp;600,</div></div><div class=\"12545\" style=\"display: none;\"><div style=\"display: table-cell;\"></div><div style=\"display: table-cell;\">renderers&nbsp;=&nbsp;[GlyphRenderer(id='12285', ...)],</div></div><div class=\"12545\" style=\"display: none;\"><div style=\"display: table-cell;\"></div><div style=\"display: table-cell;\">reset_policy&nbsp;=&nbsp;'standard',</div></div><div class=\"12545\" style=\"display: none;\"><div style=\"display: table-cell;\"></div><div style=\"display: table-cell;\">right&nbsp;=&nbsp;[],</div></div><div class=\"12545\" style=\"display: none;\"><div style=\"display: table-cell;\"></div><div style=\"display: table-cell;\">sizing_mode&nbsp;=&nbsp;'fixed',</div></div><div class=\"12545\" style=\"display: none;\"><div style=\"display: table-cell;\"></div><div style=\"display: table-cell;\">subscribed_events&nbsp;=&nbsp;[],</div></div><div class=\"12545\" style=\"display: none;\"><div style=\"display: table-cell;\"></div><div style=\"display: table-cell;\">tags&nbsp;=&nbsp;[],</div></div><div class=\"12545\" style=\"display: none;\"><div style=\"display: table-cell;\"></div><div style=\"display: table-cell;\">title&nbsp;=&nbsp;Title(id='12249', ...),</div></div><div class=\"12545\" style=\"display: none;\"><div style=\"display: table-cell;\"></div><div style=\"display: table-cell;\">title_location&nbsp;=&nbsp;'above',</div></div><div class=\"12545\" style=\"display: none;\"><div style=\"display: table-cell;\"></div><div style=\"display: table-cell;\">toolbar&nbsp;=&nbsp;Toolbar(id='12274', ...),</div></div><div class=\"12545\" style=\"display: none;\"><div style=\"display: table-cell;\"></div><div style=\"display: table-cell;\">toolbar_location&nbsp;=&nbsp;'right',</div></div><div class=\"12545\" style=\"display: none;\"><div style=\"display: table-cell;\"></div><div style=\"display: table-cell;\">toolbar_sticky&nbsp;=&nbsp;True,</div></div><div class=\"12545\" style=\"display: none;\"><div style=\"display: table-cell;\"></div><div style=\"display: table-cell;\">visible&nbsp;=&nbsp;True,</div></div><div class=\"12545\" style=\"display: none;\"><div style=\"display: table-cell;\"></div><div style=\"display: table-cell;\">width&nbsp;=&nbsp;None,</div></div><div class=\"12545\" style=\"display: none;\"><div style=\"display: table-cell;\"></div><div style=\"display: table-cell;\">width_policy&nbsp;=&nbsp;'auto',</div></div><div class=\"12545\" style=\"display: none;\"><div style=\"display: table-cell;\"></div><div style=\"display: table-cell;\">x_range&nbsp;=&nbsp;DataRange1d(id='12251', ...),</div></div><div class=\"12545\" style=\"display: none;\"><div style=\"display: table-cell;\"></div><div style=\"display: table-cell;\">x_scale&nbsp;=&nbsp;LinearScale(id='12255', ...),</div></div><div class=\"12545\" style=\"display: none;\"><div style=\"display: table-cell;\"></div><div style=\"display: table-cell;\">y_range&nbsp;=&nbsp;DataRange1d(id='12253', ...),</div></div><div class=\"12545\" style=\"display: none;\"><div style=\"display: table-cell;\"></div><div style=\"display: table-cell;\">y_scale&nbsp;=&nbsp;LinearScale(id='12257', ...))</div></div></div>\n",
       "<script>\n",
       "(function() {\n",
       "  var expanded = false;\n",
       "  var ellipsis = document.getElementById(\"12546\");\n",
       "  ellipsis.addEventListener(\"click\", function() {\n",
       "    var rows = document.getElementsByClassName(\"12545\");\n",
       "    for (var i = 0; i < rows.length; i++) {\n",
       "      var el = rows[i];\n",
       "      el.style.display = expanded ? \"none\" : \"table-row\";\n",
       "    }\n",
       "    ellipsis.innerHTML = expanded ? \"&hellip;)\" : \"&lsaquo;&lsaquo;&lsaquo;\";\n",
       "    expanded = !expanded;\n",
       "  });\n",
       "})();\n",
       "</script>\n"
      ],
      "text/plain": [
       "Figure(id='12248', ...)"
      ]
     },
     "execution_count": 286,
     "metadata": {},
     "output_type": "execute_result"
    }
   ],
   "source": [
    "uber_serie.plot()"
   ]
  },
  {
   "cell_type": "code",
   "execution_count": null,
   "metadata": {},
   "outputs": [],
   "source": []
  },
  {
   "cell_type": "markdown",
   "metadata": {},
   "source": [
    "# lors de l'analyse sur un mois\n",
    "La P-value est assez elevé, la serie a des chances de ne pas être stationnaire, il va falloir surement passer par une différenciation"
   ]
  },
  {
   "cell_type": "markdown",
   "metadata": {},
   "source": [
    "# lors de l'analyse sur les 6 mois\n",
    "La p-value est très faible donc la série est stationnaire\n",
    "parce que ce que fait la P-value est d'imaginer un monde ou la série n'est pas stationnaire, à quelle point cela serait ridificule, probable ?\n",
    "donc vu que la p-value est très faible ca rend notre null-hypothesis(null hypothesis => la serie n'est pas stationnaire) complètement ridicule et donc on peut en conclure que notre série est belle et bien stationnaire"
   ]
  },
  {
   "cell_type": "code",
   "execution_count": 287,
   "metadata": {},
   "outputs": [],
   "source": [
    "from statsmodels.tsa.seasonal import STL, seasonal_decompose"
   ]
  },
  {
   "cell_type": "code",
   "execution_count": 288,
   "metadata": {},
   "outputs": [
    {
     "data": {
      "image/png": "[encoded data removed]",
      "text/plain": [
       "<Figure size 432x288 with 4 Axes>"
      ]
     },
     "execution_count": 288,
     "metadata": {},
     "output_type": "execute_result"
    },
    {
     "data": {
      "image/png": "[encoded data removed]",
      "text/plain": [
       "<Figure size 432x288 with 4 Axes>"
      ]
     },
     "metadata": {
      "needs_background": "light"
     },
     "output_type": "display_data"
    }
   ],
   "source": [
    "out = seasonal_decompose(uber_serie)\n",
    "out.plot()"
   ]
  },
  {
   "cell_type": "code",
   "execution_count": 289,
   "metadata": {},
   "outputs": [
    {
     "data": {
      "text/html": [
       "\n",
       "\n",
       "\n",
       "\n",
       "\n",
       "\n",
       "  <div class=\"bk-root\" id=\"baaef9c7-1553-476a-aa59-388bbaa3e8a0\" data-root-id=\"12548\"></div>\n"
      ]
     },
     "metadata": {},
     "output_type": "display_data"
    },
    {
     "data": {
      "application/javascript": [
       "(function(root) {\n",
       "  function embed_document(root) {\n",
       "    \n",
       "  var docs_json = {\"bafa6b84-4f75-4b29-83d8-0955051cd565\":{\"roots\":{\"references\":[{\"attributes\":{\"below\":[{\"id\":\"12559\"}],\"center\":[{\"id\":\"12562\"},{\"id\":\"12566\"},{\"id\":\"12607\"}],\"left\":[{\"id\":\"12563\"}],\"output_backend\":\"webgl\",\"plot_height\":400,\"renderers\":[{\"id\":\"12585\"}],\"sizing_mode\":\"fixed\",\"title\":{\"id\":\"12549\"},\"toolbar\":{\"id\":\"12574\"},\"x_range\":{\"id\":\"12551\"},\"x_scale\":{\"id\":\"12555\"},\"y_range\":{\"id\":\"12553\"},\"y_scale\":{\"id\":\"12557\"}},\"id\":\"12548\",\"subtype\":\"Figure\",\"type\":\"Plot\"},{\"attributes\":{\"axis\":{\"id\":\"12563\"},\"dimension\":1,\"ticker\":null},\"id\":\"12566\",\"type\":\"Grid\"},{\"attributes\":{},\"id\":\"12553\",\"type\":\"DataRange1d\"},{\"attributes\":{\"mantissas\":[1,2,5],\"max_interval\":500.0,\"num_minor_ticks\":0},\"id\":\"12592\",\"type\":\"AdaptiveTicker\"},{\"attributes\":{\"callback\":null,\"formatters\":{\"@__x__values_original\":\"datetime\"},\"mode\":\"vline\",\"renderers\":[{\"id\":\"12585\"}],\"tooltips\":[[\"pickup_dt\",\"@__x__values_original{%F}\"],[\"0\",\"@{0}\"]]},\"id\":\"12609\",\"type\":\"HoverTool\"},{\"attributes\":{},\"id\":\"12603\",\"type\":\"YearsTicker\"},{\"attributes\":{\"num_minor_ticks\":5,\"tickers\":[{\"id\":\"12592\"},{\"id\":\"12593\"},{\"id\":\"12594\"},{\"id\":\"12595\"},{\"id\":\"12596\"},{\"id\":\"12597\"},{\"id\":\"12598\"},{\"id\":\"12599\"},{\"id\":\"12600\"},{\"id\":\"12601\"},{\"id\":\"12602\"},{\"id\":\"12603\"}]},\"id\":\"12560\",\"type\":\"DatetimeTicker\"},{\"attributes\":{\"days\":[1,4,7,10,13,16,19,22,25,28]},\"id\":\"12596\",\"type\":\"DaysTicker\"},{\"attributes\":{},\"id\":\"12605\",\"type\":\"UnionRenderers\"},{\"attributes\":{},\"id\":\"12606\",\"type\":\"Selection\"},{\"attributes\":{},\"id\":\"12568\",\"type\":\"WheelZoomTool\"},{\"attributes\":{\"axis_label\":\"pickup_dt\",\"formatter\":{\"id\":\"12611\"},\"ticker\":{\"id\":\"12560\"}},\"id\":\"12559\",\"type\":\"DatetimeAxis\"},{\"attributes\":{},\"id\":\"12570\",\"type\":\"SaveTool\"},{\"attributes\":{\"label\":{\"value\":\" 0\"},\"renderers\":[{\"id\":\"12585\"}]},\"id\":\"12608\",\"type\":\"LegendItem\"},{\"attributes\":{},\"id\":\"12567\",\"type\":\"PanTool\"},{\"attributes\":{},\"id\":\"12571\",\"type\":\"ResetTool\"},{\"attributes\":{\"days\":[1,8,15,22]},\"id\":\"12597\",\"type\":\"DaysTicker\"},{\"attributes\":{\"line_color\":\"#1f77b4\",\"line_width\":2,\"x\":{\"field\":\"__x__values\"},\"y\":{\"field\":\"0\"}},\"id\":\"12583\",\"type\":\"Line\"},{\"attributes\":{\"months\":[0,2,4,6,8,10]},\"id\":\"12600\",\"type\":\"MonthsTicker\"},{\"attributes\":{\"bottom_units\":\"screen\",\"fill_alpha\":0.5,\"fill_color\":\"lightgrey\",\"left_units\":\"screen\",\"level\":\"overlay\",\"line_alpha\":1.0,\"line_color\":\"black\",\"line_dash\":[4,4],\"line_width\":2,\"right_units\":\"screen\",\"top_units\":\"screen\"},\"id\":\"12573\",\"type\":\"BoxAnnotation\"},{\"attributes\":{\"click_policy\":\"hide\",\"items\":[{\"id\":\"12608\"}]},\"id\":\"12607\",\"type\":\"Legend\"},{\"attributes\":{\"axis\":{\"id\":\"12559\"},\"ticker\":null},\"id\":\"12562\",\"type\":\"Grid\"},{\"attributes\":{},\"id\":\"12572\",\"type\":\"HelpTool\"},{\"attributes\":{},\"id\":\"12557\",\"type\":\"LinearScale\"},{\"attributes\":{\"days\":[1,15]},\"id\":\"12598\",\"type\":\"DaysTicker\"},{\"attributes\":{\"base\":24,\"mantissas\":[1,2,4,6,8,12],\"max_interval\":43200000.0,\"min_interval\":3600000.0,\"num_minor_ticks\":0},\"id\":\"12594\",\"type\":\"AdaptiveTicker\"},{\"attributes\":{},\"id\":\"12588\",\"type\":\"BasicTickFormatter\"},{\"attributes\":{\"text\":\"\"},\"id\":\"12549\",\"type\":\"Title\"},{\"attributes\":{\"months\":[0,6]},\"id\":\"12602\",\"type\":\"MonthsTicker\"},{\"attributes\":{\"axis_label\":\"0\",\"formatter\":{\"id\":\"12588\"},\"ticker\":{\"id\":\"12564\"}},\"id\":\"12563\",\"type\":\"LinearAxis\"},{\"attributes\":{},\"id\":\"12564\",\"type\":\"BasicTicker\"},{\"attributes\":{\"source\":{\"id\":\"12581\"}},\"id\":\"12586\",\"type\":\"CDSView\"},{\"attributes\":{\"active_drag\":\"auto\",\"active_inspect\":\"auto\",\"active_multi\":null,\"active_scroll\":{\"id\":\"12568\"},\"active_tap\":\"auto\",\"tools\":[{\"id\":\"12567\"},{\"id\":\"12568\"},{\"id\":\"12569\"},{\"id\":\"12570\"},{\"id\":\"12571\"},{\"id\":\"12572\"},{\"id\":\"12609\"}]},\"id\":\"12574\",\"type\":\"Toolbar\"},{\"attributes\":{},\"id\":\"12555\",\"type\":\"LinearScale\"},{\"attributes\":{\"months\":[0,1,2,3,4,5,6,7,8,9,10,11]},\"id\":\"12599\",\"type\":\"MonthsTicker\"},{\"attributes\":{},\"id\":\"12551\",\"type\":\"DataRange1d\"},{\"attributes\":{\"line_alpha\":0.1,\"line_color\":\"#1f77b4\",\"line_width\":2,\"x\":{\"field\":\"__x__values\"},\"y\":{\"field\":\"0\"}},\"id\":\"12584\",\"type\":\"Line\"},{\"attributes\":{\"data\":{\"0\":{\"__ndarray__\":\"7g0oExeftkB0b0CZuLiLQEiLkL9mL2XAHOtDY33Ud0BorA+N9RuPQMb60FgfG5RANNaHxvqik0C6N6BMXOCTQLo3oExcVJRAl+4NKBOqkkBkfWisj5CgQDTWh8b6fZBAxvrQWB8rlkA01ofG+taWQLo3oExcFJVAujegTFywlECX7g0oE/KRQMf60FgflZRANNaHxvr5l0DG+tBYH3uTQDTWh8b6+pRAujegTFzglEC6N6BMXAyVQJfuDSgTbphAx/rQWB+tl0A01ofG+jGRQI31obE+1olANNaHxvpmkEC6N6BMXJiTQLo3oExcDJhATPcGlAnToEA=\",\"dtype\":\"float64\",\"order\":\"little\",\"shape\":[31]},\"__x__values\":{\"__ndarray__\":\"AADoGTCqdEIAAKh/gqp0QgAAaOXUqnRCAAAoSyerdEIAAOiweat0QgAAqBbMq3RCAABofB6sdEIAACjicKx0QgAA6EfDrHRCAACorRWtdEIAAGgTaK10QgAAKHm6rXRCAADo3gyudEIAAKhEX650QgAAaKqxrnRCAAAoEASvdEIAAOh1Vq90QgAAqNuor3RCAABoQfuvdEIAACinTbB0QgAA6AygsHRCAACocvKwdEIAAGjYRLF0QgAAKD6XsXRCAADoo+mxdEIAAKgJPLJ0QgAAaG+OsnRCAAAo1eCydEIAAOg6M7N0QgAAqKCFs3RCAABoBtizdEI=\",\"dtype\":\"float64\",\"order\":\"little\",\"shape\":[31]},\"__x__values_original\":{\"__ndarray__\":\"AADoGTCqdEIAAKh/gqp0QgAAaOXUqnRCAAAoSyerdEIAAOiweat0QgAAqBbMq3RCAABofB6sdEIAACjicKx0QgAA6EfDrHRCAACorRWtdEIAAGgTaK10QgAAKHm6rXRCAADo3gyudEIAAKhEX650QgAAaKqxrnRCAAAoEASvdEIAAOh1Vq90QgAAqNuor3RCAABoQfuvdEIAACinTbB0QgAA6AygsHRCAACocvKwdEIAAGjYRLF0QgAAKD6XsXRCAADoo+mxdEIAAKgJPLJ0QgAAaG+OsnRCAAAo1eCydEIAAOg6M7N0QgAAqKCFs3RCAABoBtizdEI=\",\"dtype\":\"float64\",\"order\":\"little\",\"shape\":[31]}},\"selected\":{\"id\":\"12606\"},\"selection_policy\":{\"id\":\"12605\"}},\"id\":\"12581\",\"type\":\"ColumnDataSource\"},{\"attributes\":{\"data_source\":{\"id\":\"12581\"},\"glyph\":{\"id\":\"12583\"},\"hover_glyph\":null,\"muted_glyph\":null,\"nonselection_glyph\":{\"id\":\"12584\"},\"selection_glyph\":null,\"view\":{\"id\":\"12586\"}},\"id\":\"12585\",\"type\":\"GlyphRenderer\"},{\"attributes\":{\"days\":[1,2,3,4,5,6,7,8,9,10,11,12,13,14,15,16,17,18,19,20,21,22,23,24,25,26,27,28,29,30,31]},\"id\":\"12595\",\"type\":\"DaysTicker\"},{\"attributes\":{\"overlay\":{\"id\":\"12573\"}},\"id\":\"12569\",\"type\":\"BoxZoomTool\"},{\"attributes\":{\"months\":[0,4,8]},\"id\":\"12601\",\"type\":\"MonthsTicker\"},{\"attributes\":{\"base\":60,\"mantissas\":[1,2,5,10,15,20,30],\"max_interval\":1800000.0,\"min_interval\":1000.0,\"num_minor_ticks\":0},\"id\":\"12593\",\"type\":\"AdaptiveTicker\"},{\"attributes\":{\"days\":[\"%d %B %Y\"],\"hours\":[\"%H:%M:%S\"],\"milliseconds\":[\"%H:%M:%S.%f\"],\"minutes\":[\"%H:%M:%S\"],\"months\":[\"%d %B %Y\"],\"seconds\":[\"%H:%M:%S\"],\"years\":[\"%d %B %Y\"]},\"id\":\"12611\",\"type\":\"DatetimeTickFormatter\"}],\"root_ids\":[\"12548\"]},\"title\":\"Bokeh Application\",\"version\":\"2.2.1\"}};\n",
       "  var render_items = [{\"docid\":\"bafa6b84-4f75-4b29-83d8-0955051cd565\",\"root_ids\":[\"12548\"],\"roots\":{\"12548\":\"baaef9c7-1553-476a-aa59-388bbaa3e8a0\"}}];\n",
       "  root.Bokeh.embed.embed_items_notebook(docs_json, render_items);\n",
       "\n",
       "  }\n",
       "  if (root.Bokeh !== undefined) {\n",
       "    embed_document(root);\n",
       "  } else {\n",
       "    var attempts = 0;\n",
       "    var timer = setInterval(function(root) {\n",
       "      if (root.Bokeh !== undefined) {\n",
       "        clearInterval(timer);\n",
       "        embed_document(root);\n",
       "      } else {\n",
       "        attempts++;\n",
       "        if (attempts > 100) {\n",
       "          clearInterval(timer);\n",
       "          console.log(\"Bokeh: ERROR: Unable to run BokehJS code because BokehJS library is missing\");\n",
       "        }\n",
       "      }\n",
       "    }, 10, root)\n",
       "  }\n",
       "})(window);"
      ],
      "application/vnd.bokehjs_exec.v0+json": ""
     },
     "metadata": {
      "application/vnd.bokehjs_exec.v0+json": {
       "id": "12548"
      }
     },
     "output_type": "display_data"
    },
    {
     "data": {
      "text/html": [
       "<div style=\"display: table;\"><div style=\"display: table-row;\"><div style=\"display: table-cell;\"><b title=\"bokeh.plotting.figure.Figure\">Figure</b>(</div><div style=\"display: table-cell;\">id&nbsp;=&nbsp;'12548', <span id=\"12865\" style=\"cursor: pointer;\">&hellip;)</span></div></div><div class=\"12864\" style=\"display: none;\"><div style=\"display: table-cell;\"></div><div style=\"display: table-cell;\">above&nbsp;=&nbsp;[],</div></div><div class=\"12864\" style=\"display: none;\"><div style=\"display: table-cell;\"></div><div style=\"display: table-cell;\">align&nbsp;=&nbsp;'start',</div></div><div class=\"12864\" style=\"display: none;\"><div style=\"display: table-cell;\"></div><div style=\"display: table-cell;\">aspect_ratio&nbsp;=&nbsp;None,</div></div><div class=\"12864\" style=\"display: none;\"><div style=\"display: table-cell;\"></div><div style=\"display: table-cell;\">aspect_scale&nbsp;=&nbsp;1,</div></div><div class=\"12864\" style=\"display: none;\"><div style=\"display: table-cell;\"></div><div style=\"display: table-cell;\">background&nbsp;=&nbsp;None,</div></div><div class=\"12864\" style=\"display: none;\"><div style=\"display: table-cell;\"></div><div style=\"display: table-cell;\">background_fill_alpha&nbsp;=&nbsp;1.0,</div></div><div class=\"12864\" style=\"display: none;\"><div style=\"display: table-cell;\"></div><div style=\"display: table-cell;\">background_fill_color&nbsp;=&nbsp;'#ffffff',</div></div><div class=\"12864\" style=\"display: none;\"><div style=\"display: table-cell;\"></div><div style=\"display: table-cell;\">below&nbsp;=&nbsp;[DatetimeAxis(id='12559', ...)],</div></div><div class=\"12864\" style=\"display: none;\"><div style=\"display: table-cell;\"></div><div style=\"display: table-cell;\">border_fill_alpha&nbsp;=&nbsp;1.0,</div></div><div class=\"12864\" style=\"display: none;\"><div style=\"display: table-cell;\"></div><div style=\"display: table-cell;\">border_fill_color&nbsp;=&nbsp;'#ffffff',</div></div><div class=\"12864\" style=\"display: none;\"><div style=\"display: table-cell;\"></div><div style=\"display: table-cell;\">center&nbsp;=&nbsp;[Grid(id='12562', ...), Grid(id='12566', ...), Legend(id='12607', ...)],</div></div><div class=\"12864\" style=\"display: none;\"><div style=\"display: table-cell;\"></div><div style=\"display: table-cell;\">css_classes&nbsp;=&nbsp;[],</div></div><div class=\"12864\" style=\"display: none;\"><div style=\"display: table-cell;\"></div><div style=\"display: table-cell;\">disabled&nbsp;=&nbsp;False,</div></div><div class=\"12864\" style=\"display: none;\"><div style=\"display: table-cell;\"></div><div style=\"display: table-cell;\">extra_x_ranges&nbsp;=&nbsp;{},</div></div><div class=\"12864\" style=\"display: none;\"><div style=\"display: table-cell;\"></div><div style=\"display: table-cell;\">extra_y_ranges&nbsp;=&nbsp;{},</div></div><div class=\"12864\" style=\"display: none;\"><div style=\"display: table-cell;\"></div><div style=\"display: table-cell;\">frame_height&nbsp;=&nbsp;None,</div></div><div class=\"12864\" style=\"display: none;\"><div style=\"display: table-cell;\"></div><div style=\"display: table-cell;\">frame_width&nbsp;=&nbsp;None,</div></div><div class=\"12864\" style=\"display: none;\"><div style=\"display: table-cell;\"></div><div style=\"display: table-cell;\">height&nbsp;=&nbsp;None,</div></div><div class=\"12864\" style=\"display: none;\"><div style=\"display: table-cell;\"></div><div style=\"display: table-cell;\">height_policy&nbsp;=&nbsp;'auto',</div></div><div class=\"12864\" style=\"display: none;\"><div style=\"display: table-cell;\"></div><div style=\"display: table-cell;\">hidpi&nbsp;=&nbsp;True,</div></div><div class=\"12864\" style=\"display: none;\"><div style=\"display: table-cell;\"></div><div style=\"display: table-cell;\">js_event_callbacks&nbsp;=&nbsp;{},</div></div><div class=\"12864\" style=\"display: none;\"><div style=\"display: table-cell;\"></div><div style=\"display: table-cell;\">js_property_callbacks&nbsp;=&nbsp;{},</div></div><div class=\"12864\" style=\"display: none;\"><div style=\"display: table-cell;\"></div><div style=\"display: table-cell;\">left&nbsp;=&nbsp;[LinearAxis(id='12563', ...)],</div></div><div class=\"12864\" style=\"display: none;\"><div style=\"display: table-cell;\"></div><div style=\"display: table-cell;\">lod_factor&nbsp;=&nbsp;10,</div></div><div class=\"12864\" style=\"display: none;\"><div style=\"display: table-cell;\"></div><div style=\"display: table-cell;\">lod_interval&nbsp;=&nbsp;300,</div></div><div class=\"12864\" style=\"display: none;\"><div style=\"display: table-cell;\"></div><div style=\"display: table-cell;\">lod_threshold&nbsp;=&nbsp;2000,</div></div><div class=\"12864\" style=\"display: none;\"><div style=\"display: table-cell;\"></div><div style=\"display: table-cell;\">lod_timeout&nbsp;=&nbsp;500,</div></div><div class=\"12864\" style=\"display: none;\"><div style=\"display: table-cell;\"></div><div style=\"display: table-cell;\">margin&nbsp;=&nbsp;(0, 0, 0, 0),</div></div><div class=\"12864\" style=\"display: none;\"><div style=\"display: table-cell;\"></div><div style=\"display: table-cell;\">match_aspect&nbsp;=&nbsp;False,</div></div><div class=\"12864\" style=\"display: none;\"><div style=\"display: table-cell;\"></div><div style=\"display: table-cell;\">max_height&nbsp;=&nbsp;None,</div></div><div class=\"12864\" style=\"display: none;\"><div style=\"display: table-cell;\"></div><div style=\"display: table-cell;\">max_width&nbsp;=&nbsp;None,</div></div><div class=\"12864\" style=\"display: none;\"><div style=\"display: table-cell;\"></div><div style=\"display: table-cell;\">min_border&nbsp;=&nbsp;5,</div></div><div class=\"12864\" style=\"display: none;\"><div style=\"display: table-cell;\"></div><div style=\"display: table-cell;\">min_border_bottom&nbsp;=&nbsp;None,</div></div><div class=\"12864\" style=\"display: none;\"><div style=\"display: table-cell;\"></div><div style=\"display: table-cell;\">min_border_left&nbsp;=&nbsp;None,</div></div><div class=\"12864\" style=\"display: none;\"><div style=\"display: table-cell;\"></div><div style=\"display: table-cell;\">min_border_right&nbsp;=&nbsp;None,</div></div><div class=\"12864\" style=\"display: none;\"><div style=\"display: table-cell;\"></div><div style=\"display: table-cell;\">min_border_top&nbsp;=&nbsp;None,</div></div><div class=\"12864\" style=\"display: none;\"><div style=\"display: table-cell;\"></div><div style=\"display: table-cell;\">min_height&nbsp;=&nbsp;None,</div></div><div class=\"12864\" style=\"display: none;\"><div style=\"display: table-cell;\"></div><div style=\"display: table-cell;\">min_width&nbsp;=&nbsp;None,</div></div><div class=\"12864\" style=\"display: none;\"><div style=\"display: table-cell;\"></div><div style=\"display: table-cell;\">name&nbsp;=&nbsp;None,</div></div><div class=\"12864\" style=\"display: none;\"><div style=\"display: table-cell;\"></div><div style=\"display: table-cell;\">outline_line_alpha&nbsp;=&nbsp;1.0,</div></div><div class=\"12864\" style=\"display: none;\"><div style=\"display: table-cell;\"></div><div style=\"display: table-cell;\">outline_line_cap&nbsp;=&nbsp;'butt',</div></div><div class=\"12864\" style=\"display: none;\"><div style=\"display: table-cell;\"></div><div style=\"display: table-cell;\">outline_line_color&nbsp;=&nbsp;'#e5e5e5',</div></div><div class=\"12864\" style=\"display: none;\"><div style=\"display: table-cell;\"></div><div style=\"display: table-cell;\">outline_line_dash&nbsp;=&nbsp;[],</div></div><div class=\"12864\" style=\"display: none;\"><div style=\"display: table-cell;\"></div><div style=\"display: table-cell;\">outline_line_dash_offset&nbsp;=&nbsp;0,</div></div><div class=\"12864\" style=\"display: none;\"><div style=\"display: table-cell;\"></div><div style=\"display: table-cell;\">outline_line_join&nbsp;=&nbsp;'bevel',</div></div><div class=\"12864\" style=\"display: none;\"><div style=\"display: table-cell;\"></div><div style=\"display: table-cell;\">outline_line_width&nbsp;=&nbsp;1,</div></div><div class=\"12864\" style=\"display: none;\"><div style=\"display: table-cell;\"></div><div style=\"display: table-cell;\">output_backend&nbsp;=&nbsp;'webgl',</div></div><div class=\"12864\" style=\"display: none;\"><div style=\"display: table-cell;\"></div><div style=\"display: table-cell;\">plot_height&nbsp;=&nbsp;400,</div></div><div class=\"12864\" style=\"display: none;\"><div style=\"display: table-cell;\"></div><div style=\"display: table-cell;\">plot_width&nbsp;=&nbsp;600,</div></div><div class=\"12864\" style=\"display: none;\"><div style=\"display: table-cell;\"></div><div style=\"display: table-cell;\">renderers&nbsp;=&nbsp;[GlyphRenderer(id='12585', ...)],</div></div><div class=\"12864\" style=\"display: none;\"><div style=\"display: table-cell;\"></div><div style=\"display: table-cell;\">reset_policy&nbsp;=&nbsp;'standard',</div></div><div class=\"12864\" style=\"display: none;\"><div style=\"display: table-cell;\"></div><div style=\"display: table-cell;\">right&nbsp;=&nbsp;[],</div></div><div class=\"12864\" style=\"display: none;\"><div style=\"display: table-cell;\"></div><div style=\"display: table-cell;\">sizing_mode&nbsp;=&nbsp;'fixed',</div></div><div class=\"12864\" style=\"display: none;\"><div style=\"display: table-cell;\"></div><div style=\"display: table-cell;\">subscribed_events&nbsp;=&nbsp;[],</div></div><div class=\"12864\" style=\"display: none;\"><div style=\"display: table-cell;\"></div><div style=\"display: table-cell;\">tags&nbsp;=&nbsp;[],</div></div><div class=\"12864\" style=\"display: none;\"><div style=\"display: table-cell;\"></div><div style=\"display: table-cell;\">title&nbsp;=&nbsp;Title(id='12549', ...),</div></div><div class=\"12864\" style=\"display: none;\"><div style=\"display: table-cell;\"></div><div style=\"display: table-cell;\">title_location&nbsp;=&nbsp;'above',</div></div><div class=\"12864\" style=\"display: none;\"><div style=\"display: table-cell;\"></div><div style=\"display: table-cell;\">toolbar&nbsp;=&nbsp;Toolbar(id='12574', ...),</div></div><div class=\"12864\" style=\"display: none;\"><div style=\"display: table-cell;\"></div><div style=\"display: table-cell;\">toolbar_location&nbsp;=&nbsp;'right',</div></div><div class=\"12864\" style=\"display: none;\"><div style=\"display: table-cell;\"></div><div style=\"display: table-cell;\">toolbar_sticky&nbsp;=&nbsp;True,</div></div><div class=\"12864\" style=\"display: none;\"><div style=\"display: table-cell;\"></div><div style=\"display: table-cell;\">visible&nbsp;=&nbsp;True,</div></div><div class=\"12864\" style=\"display: none;\"><div style=\"display: table-cell;\"></div><div style=\"display: table-cell;\">width&nbsp;=&nbsp;None,</div></div><div class=\"12864\" style=\"display: none;\"><div style=\"display: table-cell;\"></div><div style=\"display: table-cell;\">width_policy&nbsp;=&nbsp;'auto',</div></div><div class=\"12864\" style=\"display: none;\"><div style=\"display: table-cell;\"></div><div style=\"display: table-cell;\">x_range&nbsp;=&nbsp;DataRange1d(id='12551', ...),</div></div><div class=\"12864\" style=\"display: none;\"><div style=\"display: table-cell;\"></div><div style=\"display: table-cell;\">x_scale&nbsp;=&nbsp;LinearScale(id='12555', ...),</div></div><div class=\"12864\" style=\"display: none;\"><div style=\"display: table-cell;\"></div><div style=\"display: table-cell;\">y_range&nbsp;=&nbsp;DataRange1d(id='12553', ...),</div></div><div class=\"12864\" style=\"display: none;\"><div style=\"display: table-cell;\"></div><div style=\"display: table-cell;\">y_scale&nbsp;=&nbsp;LinearScale(id='12557', ...))</div></div></div>\n",
       "<script>\n",
       "(function() {\n",
       "  var expanded = false;\n",
       "  var ellipsis = document.getElementById(\"12865\");\n",
       "  ellipsis.addEventListener(\"click\", function() {\n",
       "    var rows = document.getElementsByClassName(\"12864\");\n",
       "    for (var i = 0; i < rows.length; i++) {\n",
       "      var el = rows[i];\n",
       "      el.style.display = expanded ? \"none\" : \"table-row\";\n",
       "    }\n",
       "    ellipsis.innerHTML = expanded ? \"&hellip;)\" : \"&lsaquo;&lsaquo;&lsaquo;\";\n",
       "    expanded = !expanded;\n",
       "  });\n",
       "})();\n",
       "</script>\n"
      ],
      "text/plain": [
       "Figure(id='12548', ...)"
      ]
     },
     "execution_count": 289,
     "metadata": {},
     "output_type": "execute_result"
    }
   ],
   "source": [
    "x =  out.observed - out.seasonal\n",
    "x.plot()"
   ]
  },
  {
   "cell_type": "code",
   "execution_count": null,
   "metadata": {},
   "outputs": [],
   "source": []
  },
  {
   "cell_type": "code",
   "execution_count": 290,
   "metadata": {},
   "outputs": [
    {
     "name": "stdout",
     "output_type": "stream",
     "text": [
      "p-value adf :  0.021292946490581527\n"
     ]
    }
   ],
   "source": [
    "adf, pa, *_  = adfuller(x.dropna())\n",
    "print(\"p-value adf : \", pa)"
   ]
  },
  {
   "cell_type": "code",
   "execution_count": 291,
   "metadata": {},
   "outputs": [
    {
     "name": "stdout",
     "output_type": "stream",
     "text": [
      "p-value adf :  0.26562862485871097\n"
     ]
    }
   ],
   "source": [
    "xd =  x.diff(1)\n",
    "adf, pa, *_  = adfuller(xd.dropna())\n",
    "print(\"p-value adf : \", pa)\n"
   ]
  },
  {
   "cell_type": "markdown",
   "metadata": {},
   "source": [
    "La serie est devenu stationnaire apres une differenciation"
   ]
  },
  {
   "cell_type": "markdown",
   "metadata": {},
   "source": [
    "# pour les 6 mois\n",
    "quoi qu'il arrive la serie est stationnaire car p-value tres bas dans les 2 cas"
   ]
  },
  {
   "cell_type": "code",
   "execution_count": 295,
   "metadata": {},
   "outputs": [
    {
     "ename": "ValueError",
     "evalue": "Can only compute partial correlations for lags up to 50% of the sample size. The requested nlags 15 must be < 15.",
     "output_type": "error",
     "traceback": [
      "\u001b[0;31m---------------------------------------------------------------------------\u001b[0m",
      "\u001b[0;31mValueError\u001b[0m                                Traceback (most recent call last)",
      "\u001b[0;32m<ipython-input-295-8820b638edc5>\u001b[0m in \u001b[0;36m<module>\u001b[0;34m\u001b[0m\n\u001b[1;32m      2\u001b[0m \u001b[0mfig\u001b[0m\u001b[0;34m,\u001b[0m \u001b[0max\u001b[0m \u001b[0;34m=\u001b[0m \u001b[0mplt\u001b[0m\u001b[0;34m.\u001b[0m\u001b[0msubplots\u001b[0m\u001b[0;34m(\u001b[0m\u001b[0;36m1\u001b[0m\u001b[0;34m,\u001b[0m\u001b[0;36m2\u001b[0m\u001b[0;34m)\u001b[0m\u001b[0;34m\u001b[0m\u001b[0;34m\u001b[0m\u001b[0m\n\u001b[1;32m      3\u001b[0m \u001b[0mplot_acf\u001b[0m\u001b[0;34m(\u001b[0m\u001b[0muber_serie\u001b[0m\u001b[0;34m.\u001b[0m\u001b[0mdropna\u001b[0m\u001b[0;34m(\u001b[0m\u001b[0;34m)\u001b[0m\u001b[0;34m,\u001b[0m \u001b[0max\u001b[0m\u001b[0;34m=\u001b[0m\u001b[0max\u001b[0m\u001b[0;34m[\u001b[0m\u001b[0;36m0\u001b[0m\u001b[0;34m]\u001b[0m\u001b[0;34m)\u001b[0m\u001b[0;34m\u001b[0m\u001b[0;34m\u001b[0m\u001b[0m\n\u001b[0;32m----> 4\u001b[0;31m \u001b[0mplot_pacf\u001b[0m\u001b[0;34m(\u001b[0m\u001b[0muber_serie\u001b[0m\u001b[0;34m.\u001b[0m\u001b[0mdropna\u001b[0m\u001b[0;34m(\u001b[0m\u001b[0;34m)\u001b[0m\u001b[0;34m,\u001b[0m \u001b[0max\u001b[0m\u001b[0;34m=\u001b[0m\u001b[0max\u001b[0m\u001b[0;34m[\u001b[0m\u001b[0;36m1\u001b[0m\u001b[0;34m]\u001b[0m\u001b[0;34m)\u001b[0m\u001b[0;34m;\u001b[0m\u001b[0;34m\u001b[0m\u001b[0;34m\u001b[0m\u001b[0m\n\u001b[0m",
      "\u001b[0;32m~/anaconda3/lib/python3.7/site-packages/statsmodels/graphics/tsaplots.py\u001b[0m in \u001b[0;36mplot_pacf\u001b[0;34m(x, ax, lags, alpha, method, use_vlines, title, zero, vlines_kwargs, **kwargs)\u001b[0m\n\u001b[1;32m    305\u001b[0m         \u001b[0macf_x\u001b[0m \u001b[0;34m=\u001b[0m \u001b[0mpacf\u001b[0m\u001b[0;34m(\u001b[0m\u001b[0mx\u001b[0m\u001b[0;34m,\u001b[0m \u001b[0mnlags\u001b[0m\u001b[0;34m=\u001b[0m\u001b[0mnlags\u001b[0m\u001b[0;34m,\u001b[0m \u001b[0malpha\u001b[0m\u001b[0;34m=\u001b[0m\u001b[0malpha\u001b[0m\u001b[0;34m,\u001b[0m \u001b[0mmethod\u001b[0m\u001b[0;34m=\u001b[0m\u001b[0mmethod\u001b[0m\u001b[0;34m)\u001b[0m\u001b[0;34m\u001b[0m\u001b[0;34m\u001b[0m\u001b[0m\n\u001b[1;32m    306\u001b[0m     \u001b[0;32melse\u001b[0m\u001b[0;34m:\u001b[0m\u001b[0;34m\u001b[0m\u001b[0;34m\u001b[0m\u001b[0m\n\u001b[0;32m--> 307\u001b[0;31m         \u001b[0macf_x\u001b[0m\u001b[0;34m,\u001b[0m \u001b[0mconfint\u001b[0m \u001b[0;34m=\u001b[0m \u001b[0mpacf\u001b[0m\u001b[0;34m(\u001b[0m\u001b[0mx\u001b[0m\u001b[0;34m,\u001b[0m \u001b[0mnlags\u001b[0m\u001b[0;34m=\u001b[0m\u001b[0mnlags\u001b[0m\u001b[0;34m,\u001b[0m \u001b[0malpha\u001b[0m\u001b[0;34m=\u001b[0m\u001b[0malpha\u001b[0m\u001b[0;34m,\u001b[0m \u001b[0mmethod\u001b[0m\u001b[0;34m=\u001b[0m\u001b[0mmethod\u001b[0m\u001b[0;34m)\u001b[0m\u001b[0;34m\u001b[0m\u001b[0;34m\u001b[0m\u001b[0m\n\u001b[0m\u001b[1;32m    308\u001b[0m \u001b[0;34m\u001b[0m\u001b[0m\n\u001b[1;32m    309\u001b[0m     _plot_corr(\n",
      "\u001b[0;32m~/anaconda3/lib/python3.7/site-packages/statsmodels/tsa/stattools.py\u001b[0m in \u001b[0;36mpacf\u001b[0;34m(x, nlags, method, alpha)\u001b[0m\n\u001b[1;32m   1024\u001b[0m     \u001b[0;32mif\u001b[0m \u001b[0mnlags\u001b[0m \u001b[0;34m>=\u001b[0m \u001b[0mx\u001b[0m\u001b[0;34m.\u001b[0m\u001b[0mshape\u001b[0m\u001b[0;34m[\u001b[0m\u001b[0;36m0\u001b[0m\u001b[0;34m]\u001b[0m \u001b[0;34m//\u001b[0m \u001b[0;36m2\u001b[0m\u001b[0;34m:\u001b[0m\u001b[0;34m\u001b[0m\u001b[0;34m\u001b[0m\u001b[0m\n\u001b[1;32m   1025\u001b[0m         raise ValueError(\n\u001b[0;32m-> 1026\u001b[0;31m             \u001b[0;34m\"Can only compute partial correlations for lags up to 50% of the \"\u001b[0m\u001b[0;34m\u001b[0m\u001b[0;34m\u001b[0m\u001b[0m\n\u001b[0m\u001b[1;32m   1027\u001b[0m             \u001b[0;34mf\"sample size. The requested nlags {nlags} must be < \"\u001b[0m\u001b[0;34m\u001b[0m\u001b[0;34m\u001b[0m\u001b[0m\n\u001b[1;32m   1028\u001b[0m             \u001b[0;34mf\"{x.shape[0] // 2}.\"\u001b[0m\u001b[0;34m\u001b[0m\u001b[0;34m\u001b[0m\u001b[0m\n",
      "\u001b[0;31mValueError\u001b[0m: Can only compute partial correlations for lags up to 50% of the sample size. The requested nlags 15 must be < 15."
     ]
    },
    {
     "data": {
      "image/png": "[encoded data removed]",
      "text/plain": [
       "<Figure size 432x288 with 2 Axes>"
      ]
     },
     "metadata": {
      "needs_background": "light"
     },
     "output_type": "display_data"
    }
   ],
   "source": [
    "from statsmodels.graphics.tsaplots import plot_acf, plot_pacf\n",
    "fig, ax = plt.subplots(1,2)\n",
    "plot_acf(uber_serie.dropna(), ax=ax[0]) \n",
    "plot_pacf(uber_serie.dropna(), ax=ax[1]);"
   ]
  },
  {
   "cell_type": "markdown",
   "metadata": {},
   "source": [
    "il semblerait un ordre 4 ou 5 peut etre"
   ]
  },
  {
   "cell_type": "code",
   "execution_count": 292,
   "metadata": {},
   "outputs": [
    {
     "data": {
      "text/html": [
       "<table class=\"simpletable\">\n",
       "<caption>SARIMAX Results</caption>\n",
       "<tr>\n",
       "  <th>Dep. Variable:</th>        <td>pickups</td>     <th>  No. Observations:  </th>    <td>31</td>   \n",
       "</tr>\n",
       "<tr>\n",
       "  <th>Model:</th>            <td>ARIMA(5, 1, 0)</td>  <th>  Log Likelihood     </th> <td>-252.089</td>\n",
       "</tr>\n",
       "<tr>\n",
       "  <th>Date:</th>            <td>Sat, 10 Oct 2020</td> <th>  AIC                </th>  <td>516.178</td>\n",
       "</tr>\n",
       "<tr>\n",
       "  <th>Time:</th>                <td>17:00:13</td>     <th>  BIC                </th>  <td>524.585</td>\n",
       "</tr>\n",
       "<tr>\n",
       "  <th>Sample:</th>             <td>01-01-2015</td>    <th>  HQIC               </th>  <td>518.867</td>\n",
       "</tr>\n",
       "<tr>\n",
       "  <th></th>                   <td>- 01-31-2015</td>   <th>                     </th>     <td> </td>   \n",
       "</tr>\n",
       "<tr>\n",
       "  <th>Covariance Type:</th>        <td>opg</td>       <th>                     </th>     <td> </td>   \n",
       "</tr>\n",
       "</table>\n",
       "<table class=\"simpletable\">\n",
       "<tr>\n",
       "     <td></td>       <th>coef</th>     <th>std err</th>      <th>z</th>      <th>P>|z|</th>  <th>[0.025</th>    <th>0.975]</th>  \n",
       "</tr>\n",
       "<tr>\n",
       "  <th>ar.L1</th>  <td>   -0.4714</td> <td>    0.170</td> <td>   -2.780</td> <td> 0.005</td> <td>   -0.804</td> <td>   -0.139</td>\n",
       "</tr>\n",
       "<tr>\n",
       "  <th>ar.L2</th>  <td>   -0.5514</td> <td>    0.228</td> <td>   -2.417</td> <td> 0.016</td> <td>   -0.999</td> <td>   -0.104</td>\n",
       "</tr>\n",
       "<tr>\n",
       "  <th>ar.L3</th>  <td>   -0.3772</td> <td>    0.247</td> <td>   -1.529</td> <td> 0.126</td> <td>   -0.861</td> <td>    0.106</td>\n",
       "</tr>\n",
       "<tr>\n",
       "  <th>ar.L4</th>  <td>   -0.4361</td> <td>    0.386</td> <td>   -1.131</td> <td> 0.258</td> <td>   -1.192</td> <td>    0.320</td>\n",
       "</tr>\n",
       "<tr>\n",
       "  <th>ar.L5</th>  <td>   -0.5201</td> <td>    0.133</td> <td>   -3.916</td> <td> 0.000</td> <td>   -0.780</td> <td>   -0.260</td>\n",
       "</tr>\n",
       "<tr>\n",
       "  <th>sigma2</th> <td> 1.135e+06</td> <td> 3.21e+05</td> <td>    3.537</td> <td> 0.000</td> <td> 5.06e+05</td> <td> 1.76e+06</td>\n",
       "</tr>\n",
       "</table>\n",
       "<table class=\"simpletable\">\n",
       "<tr>\n",
       "  <th>Ljung-Box (L1) (Q):</th>     <td>0.43</td> <th>  Jarque-Bera (JB):  </th> <td>2.48</td> \n",
       "</tr>\n",
       "<tr>\n",
       "  <th>Prob(Q):</th>                <td>0.51</td> <th>  Prob(JB):          </th> <td>0.29</td> \n",
       "</tr>\n",
       "<tr>\n",
       "  <th>Heteroskedasticity (H):</th> <td>0.29</td> <th>  Skew:              </th> <td>-0.56</td>\n",
       "</tr>\n",
       "<tr>\n",
       "  <th>Prob(H) (two-sided):</th>    <td>0.06</td> <th>  Kurtosis:          </th> <td>3.85</td> \n",
       "</tr>\n",
       "</table><br/><br/>Warnings:<br/>[1] Covariance matrix calculated using the outer product of gradients (complex-step)."
      ],
      "text/plain": [
       "<class 'statsmodels.iolib.summary.Summary'>\n",
       "\"\"\"\n",
       "                               SARIMAX Results                                \n",
       "==============================================================================\n",
       "Dep. Variable:                pickups   No. Observations:                   31\n",
       "Model:                 ARIMA(5, 1, 0)   Log Likelihood                -252.089\n",
       "Date:                Sat, 10 Oct 2020   AIC                            516.178\n",
       "Time:                        17:00:13   BIC                            524.585\n",
       "Sample:                    01-01-2015   HQIC                           518.867\n",
       "                         - 01-31-2015                                         \n",
       "Covariance Type:                  opg                                         \n",
       "==============================================================================\n",
       "                 coef    std err          z      P>|z|      [0.025      0.975]\n",
       "------------------------------------------------------------------------------\n",
       "ar.L1         -0.4714      0.170     -2.780      0.005      -0.804      -0.139\n",
       "ar.L2         -0.5514      0.228     -2.417      0.016      -0.999      -0.104\n",
       "ar.L3         -0.3772      0.247     -1.529      0.126      -0.861       0.106\n",
       "ar.L4         -0.4361      0.386     -1.131      0.258      -1.192       0.320\n",
       "ar.L5         -0.5201      0.133     -3.916      0.000      -0.780      -0.260\n",
       "sigma2      1.135e+06   3.21e+05      3.537      0.000    5.06e+05    1.76e+06\n",
       "===================================================================================\n",
       "Ljung-Box (L1) (Q):                   0.43   Jarque-Bera (JB):                 2.48\n",
       "Prob(Q):                              0.51   Prob(JB):                         0.29\n",
       "Heteroskedasticity (H):               0.29   Skew:                            -0.56\n",
       "Prob(H) (two-sided):                  0.06   Kurtosis:                         3.85\n",
       "===================================================================================\n",
       "\n",
       "Warnings:\n",
       "[1] Covariance matrix calculated using the outer product of gradients (complex-step).\n",
       "\"\"\""
      ]
     },
     "execution_count": 292,
     "metadata": {},
     "output_type": "execute_result"
    }
   ],
   "source": [
    "from statsmodels.tsa.arima.model import ARIMA \n",
    "mod = ARIMA(uber_serie, order=(5,1,0))\n",
    "res = mod.fit()\n",
    "res.summary()"
   ]
  },
  {
   "cell_type": "code",
   "execution_count": 293,
   "metadata": {},
   "outputs": [
    {
     "data": {
      "text/plain": [
       "519.829919183951"
      ]
     },
     "execution_count": 293,
     "metadata": {},
     "output_type": "execute_result"
    }
   ],
   "source": [
    "res.aicc"
   ]
  },
  {
   "cell_type": "code",
   "execution_count": 294,
   "metadata": {},
   "outputs": [
    {
     "data": {
      "text/html": [
       "\n",
       "\n",
       "\n",
       "\n",
       "\n",
       "\n",
       "  <div class=\"bk-root\" id=\"eee85e73-bc10-42c2-9540-464fae707b76\" data-root-id=\"12867\"></div>\n"
      ]
     },
     "metadata": {},
     "output_type": "display_data"
    },
    {
     "data": {
      "application/javascript": [
       "(function(root) {\n",
       "  function embed_document(root) {\n",
       "    \n",
       "  var docs_json = {\"b231c1d8-630a-4a36-b19a-748f52b2bd54\":{\"roots\":{\"references\":[{\"attributes\":{\"below\":[{\"id\":\"12878\"}],\"center\":[{\"id\":\"12881\"},{\"id\":\"12885\"},{\"id\":\"12926\"}],\"left\":[{\"id\":\"12882\"}],\"output_backend\":\"webgl\",\"plot_height\":400,\"renderers\":[{\"id\":\"12904\"}],\"sizing_mode\":\"fixed\",\"title\":{\"id\":\"12868\"},\"toolbar\":{\"id\":\"12893\"},\"x_range\":{\"id\":\"12870\"},\"x_scale\":{\"id\":\"12874\"},\"y_range\":{\"id\":\"12872\"},\"y_scale\":{\"id\":\"12876\"}},\"id\":\"12867\",\"subtype\":\"Figure\",\"type\":\"Plot\"},{\"attributes\":{\"axis_label\":\"0\",\"formatter\":{\"id\":\"12907\"},\"ticker\":{\"id\":\"12883\"}},\"id\":\"12882\",\"type\":\"LinearAxis\"},{\"attributes\":{\"months\":[0,2,4,6,8,10]},\"id\":\"12919\",\"type\":\"MonthsTicker\"},{\"attributes\":{\"line_alpha\":0.1,\"line_color\":\"#1f77b4\",\"line_width\":2,\"x\":{\"field\":\"__x__values\"},\"y\":{\"field\":\"0\"}},\"id\":\"12903\",\"type\":\"Line\"},{\"attributes\":{\"days\":[1,4,7,10,13,16,19,22,25,28]},\"id\":\"12915\",\"type\":\"DaysTicker\"},{\"attributes\":{\"source\":{\"id\":\"12900\"}},\"id\":\"12905\",\"type\":\"CDSView\"},{\"attributes\":{\"text\":\"R\\u00e9sidus\"},\"id\":\"12868\",\"type\":\"Title\"},{\"attributes\":{\"days\":[1,2,3,4,5,6,7,8,9,10,11,12,13,14,15,16,17,18,19,20,21,22,23,24,25,26,27,28,29,30,31]},\"id\":\"12914\",\"type\":\"DaysTicker\"},{\"attributes\":{\"callback\":null,\"formatters\":{\"@__x__values_original\":\"datetime\"},\"mode\":\"vline\",\"renderers\":[{\"id\":\"12904\"}],\"tooltips\":[[\"pickup_dt\",\"@__x__values_original{%F}\"],[\"0\",\"@{0}\"]]},\"id\":\"12928\",\"type\":\"HoverTool\"},{\"attributes\":{},\"id\":\"12924\",\"type\":\"UnionRenderers\"},{\"attributes\":{\"base\":24,\"mantissas\":[1,2,4,6,8,12],\"max_interval\":43200000.0,\"min_interval\":3600000.0,\"num_minor_ticks\":0},\"id\":\"12913\",\"type\":\"AdaptiveTicker\"},{\"attributes\":{\"axis_label\":\"pickup_dt\",\"formatter\":{\"id\":\"12930\"},\"ticker\":{\"id\":\"12879\"}},\"id\":\"12878\",\"type\":\"DatetimeAxis\"},{\"attributes\":{},\"id\":\"12887\",\"type\":\"WheelZoomTool\"},{\"attributes\":{\"data_source\":{\"id\":\"12900\"},\"glyph\":{\"id\":\"12902\"},\"hover_glyph\":null,\"muted_glyph\":null,\"nonselection_glyph\":{\"id\":\"12903\"},\"selection_glyph\":null,\"view\":{\"id\":\"12905\"}},\"id\":\"12904\",\"type\":\"GlyphRenderer\"},{\"attributes\":{},\"id\":\"12872\",\"type\":\"DataRange1d\"},{\"attributes\":{},\"id\":\"12889\",\"type\":\"SaveTool\"},{\"attributes\":{},\"id\":\"12890\",\"type\":\"ResetTool\"},{\"attributes\":{},\"id\":\"12922\",\"type\":\"YearsTicker\"},{\"attributes\":{},\"id\":\"12876\",\"type\":\"LinearScale\"},{\"attributes\":{\"months\":[0,6]},\"id\":\"12921\",\"type\":\"MonthsTicker\"},{\"attributes\":{\"label\":{\"value\":\" 0\"},\"renderers\":[{\"id\":\"12904\"}]},\"id\":\"12927\",\"type\":\"LegendItem\"},{\"attributes\":{\"bottom_units\":\"screen\",\"fill_alpha\":0.5,\"fill_color\":\"lightgrey\",\"left_units\":\"screen\",\"level\":\"overlay\",\"line_alpha\":1.0,\"line_color\":\"black\",\"line_dash\":[4,4],\"line_width\":2,\"right_units\":\"screen\",\"top_units\":\"screen\"},\"id\":\"12892\",\"type\":\"BoxAnnotation\"},{\"attributes\":{\"active_drag\":\"auto\",\"active_inspect\":\"auto\",\"active_multi\":null,\"active_scroll\":{\"id\":\"12887\"},\"active_tap\":\"auto\",\"tools\":[{\"id\":\"12886\"},{\"id\":\"12887\"},{\"id\":\"12888\"},{\"id\":\"12889\"},{\"id\":\"12890\"},{\"id\":\"12891\"},{\"id\":\"12928\"}]},\"id\":\"12893\",\"type\":\"Toolbar\"},{\"attributes\":{\"days\":[1,15]},\"id\":\"12917\",\"type\":\"DaysTicker\"},{\"attributes\":{\"months\":[0,4,8]},\"id\":\"12920\",\"type\":\"MonthsTicker\"},{\"attributes\":{},\"id\":\"12925\",\"type\":\"Selection\"},{\"attributes\":{},\"id\":\"12874\",\"type\":\"LinearScale\"},{\"attributes\":{\"axis\":{\"id\":\"12878\"},\"ticker\":null},\"id\":\"12881\",\"type\":\"Grid\"},{\"attributes\":{},\"id\":\"12886\",\"type\":\"PanTool\"},{\"attributes\":{\"months\":[0,1,2,3,4,5,6,7,8,9,10,11]},\"id\":\"12918\",\"type\":\"MonthsTicker\"},{\"attributes\":{},\"id\":\"12870\",\"type\":\"DataRange1d\"},{\"attributes\":{\"axis\":{\"id\":\"12882\"},\"dimension\":1,\"ticker\":null},\"id\":\"12885\",\"type\":\"Grid\"},{\"attributes\":{},\"id\":\"12891\",\"type\":\"HelpTool\"},{\"attributes\":{\"mantissas\":[1,2,5],\"max_interval\":500.0,\"num_minor_ticks\":0},\"id\":\"12911\",\"type\":\"AdaptiveTicker\"},{\"attributes\":{\"base\":60,\"mantissas\":[1,2,5,10,15,20,30],\"max_interval\":1800000.0,\"min_interval\":1000.0,\"num_minor_ticks\":0},\"id\":\"12912\",\"type\":\"AdaptiveTicker\"},{\"attributes\":{\"line_color\":\"#1f77b4\",\"line_width\":2,\"x\":{\"field\":\"__x__values\"},\"y\":{\"field\":\"0\"}},\"id\":\"12902\",\"type\":\"Line\"},{\"attributes\":{\"click_policy\":\"hide\",\"items\":[{\"id\":\"12927\"}]},\"id\":\"12926\",\"type\":\"Legend\"},{\"attributes\":{\"overlay\":{\"id\":\"12892\"}},\"id\":\"12888\",\"type\":\"BoxZoomTool\"},{\"attributes\":{\"days\":[\"%d %B %Y\"],\"hours\":[\"%H:%M:%S\"],\"milliseconds\":[\"%H:%M:%S.%f\"],\"minutes\":[\"%H:%M:%S\"],\"months\":[\"%d %B %Y\"],\"seconds\":[\"%H:%M:%S\"],\"years\":[\"%d %B %Y\"]},\"id\":\"12930\",\"type\":\"DatetimeTickFormatter\"},{\"attributes\":{\"data\":{\"0\":{\"__ndarray__\":\"1DPOI4jHgkDAVj/XgJuKwB37cyOQA4PAoFvyMtMSTsD0XOIFktmjwDKLOk8xu3BAuJXJpjnkZUDlhStgYEuRQFXw3Ux1BaBAx7TdRfRQmcBAb50f53U4QADlSzb7w23AcJy45j3DbUCwNwXfFpB5wEB/Hxre3l9A5p8/7bmRk0CwkyFTlxqIwEqH+zaNXoHAjPG03soaYMBAVseGrOxfQLwOV64LYHfAWJy4Bg4uj0AYPUyidySOQHXm9Z5ayJLAm3ZHhEUlh8CQwS+oWHxtwDD3v5jfUXFAcBAD1M2bc8C6w0nENFqVQA==\",\"dtype\":\"float64\",\"order\":\"little\",\"shape\":[29]},\"__x__values\":{\"__ndarray__\":\"AABo5dSqdEIAAChLJ6t0QgAA6LB5q3RCAACoFsyrdEIAAGh8Hqx0QgAAKOJwrHRCAADoR8OsdEIAAKitFa10QgAAaBNorXRCAAAoebqtdEIAAOjeDK50QgAAqERfrnRCAABoqrGudEIAACgQBK90QgAA6HVWr3RCAACo26ivdEIAAGhB+690QgAAKKdNsHRCAADoDKCwdEIAAKhy8rB0QgAAaNhEsXRCAAAoPpexdEIAAOij6bF0QgAAqAk8snRCAABob46ydEIAACjV4LJ0QgAA6Dozs3RCAACooIWzdEIAAGgG2LN0Qg==\",\"dtype\":\"float64\",\"order\":\"little\",\"shape\":[29]},\"__x__values_original\":{\"__ndarray__\":\"AABo5dSqdEIAAChLJ6t0QgAA6LB5q3RCAACoFsyrdEIAAGh8Hqx0QgAAKOJwrHRCAADoR8OsdEIAAKitFa10QgAAaBNorXRCAAAoebqtdEIAAOjeDK50QgAAqERfrnRCAABoqrGudEIAACgQBK90QgAA6HVWr3RCAACo26ivdEIAAGhB+690QgAAKKdNsHRCAADoDKCwdEIAAKhy8rB0QgAAaNhEsXRCAAAoPpexdEIAAOij6bF0QgAAqAk8snRCAABob46ydEIAACjV4LJ0QgAA6Dozs3RCAACooIWzdEIAAGgG2LN0Qg==\",\"dtype\":\"float64\",\"order\":\"little\",\"shape\":[29]}},\"selected\":{\"id\":\"12925\"},\"selection_policy\":{\"id\":\"12924\"}},\"id\":\"12900\",\"type\":\"ColumnDataSource\"},{\"attributes\":{},\"id\":\"12907\",\"type\":\"BasicTickFormatter\"},{\"attributes\":{\"days\":[1,8,15,22]},\"id\":\"12916\",\"type\":\"DaysTicker\"},{\"attributes\":{\"num_minor_ticks\":5,\"tickers\":[{\"id\":\"12911\"},{\"id\":\"12912\"},{\"id\":\"12913\"},{\"id\":\"12914\"},{\"id\":\"12915\"},{\"id\":\"12916\"},{\"id\":\"12917\"},{\"id\":\"12918\"},{\"id\":\"12919\"},{\"id\":\"12920\"},{\"id\":\"12921\"},{\"id\":\"12922\"}]},\"id\":\"12879\",\"type\":\"DatetimeTicker\"},{\"attributes\":{},\"id\":\"12883\",\"type\":\"BasicTicker\"}],\"root_ids\":[\"12867\"]},\"title\":\"Bokeh Application\",\"version\":\"2.2.1\"}};\n",
       "  var render_items = [{\"docid\":\"b231c1d8-630a-4a36-b19a-748f52b2bd54\",\"root_ids\":[\"12867\"],\"roots\":{\"12867\":\"eee85e73-bc10-42c2-9540-464fae707b76\"}}];\n",
       "  root.Bokeh.embed.embed_items_notebook(docs_json, render_items);\n",
       "\n",
       "  }\n",
       "  if (root.Bokeh !== undefined) {\n",
       "    embed_document(root);\n",
       "  } else {\n",
       "    var attempts = 0;\n",
       "    var timer = setInterval(function(root) {\n",
       "      if (root.Bokeh !== undefined) {\n",
       "        clearInterval(timer);\n",
       "        embed_document(root);\n",
       "      } else {\n",
       "        attempts++;\n",
       "        if (attempts > 100) {\n",
       "          clearInterval(timer);\n",
       "          console.log(\"Bokeh: ERROR: Unable to run BokehJS code because BokehJS library is missing\");\n",
       "        }\n",
       "      }\n",
       "    }, 10, root)\n",
       "  }\n",
       "})(window);"
      ],
      "application/vnd.bokehjs_exec.v0+json": ""
     },
     "metadata": {
      "application/vnd.bokehjs_exec.v0+json": {
       "id": "12867"
      }
     },
     "output_type": "display_data"
    },
    {
     "data": {
      "image/png": "[encoded data removed]",
      "text/plain": [
       "<Figure size 432x288 with 1 Axes>"
      ]
     },
     "metadata": {
      "needs_background": "light"
     },
     "output_type": "display_data"
    }
   ],
   "source": [
    "residus = res.resid[2:]\n",
    "residus.plot(title=\"Résidus\")\n",
    "plot_acf(residus);"
   ]
  },
  {
   "cell_type": "code",
   "execution_count": 297,
   "metadata": {},
   "outputs": [
    {
     "data": {
      "text/plain": [
       "[<matplotlib.lines.Line2D at 0x7fab819ca0d0>]"
      ]
     },
     "execution_count": 297,
     "metadata": {},
     "output_type": "execute_result"
    },
    {
     "data": {
      "image/png": "[encoded data removed]",
      "text/plain": [
       "<Figure size 432x288 with 1 Axes>"
      ]
     },
     "metadata": {
      "needs_background": "light"
     },
     "output_type": "display_data"
    }
   ],
   "source": [
    "#x.plot()\n",
    "#res.forecast(5).plot()\n",
    "plt.plot(uber_serie)\n",
    "plt.plot(res.forecast(20))"
   ]
  },
  {
   "cell_type": "code",
   "execution_count": 298,
   "metadata": {},
   "outputs": [],
   "source": [
    "uber_sarimax = x.copy()"
   ]
  },
  {
   "cell_type": "code",
   "execution_count": 299,
   "metadata": {},
   "outputs": [
    {
     "data": {
      "text/plain": [
       "pickup_dt\n",
       "2015-01-01 01:00:00    5791.090136\n",
       "2015-01-02 01:00:00     887.090136\n",
       "2015-01-03 01:00:00    -169.481293\n",
       "2015-01-04 01:00:00     381.280612\n",
       "2015-01-05 01:00:00     995.494898\n",
       "2015-01-06 01:00:00    1286.780612\n",
       "2015-01-07 01:00:00    1256.744898\n",
       "2015-01-08 01:00:00    1272.090136\n",
       "2015-01-09 01:00:00    1301.090136\n",
       "2015-01-10 01:00:00    1194.518707\n",
       "2015-01-11 01:00:00    2120.280612\n",
       "2015-01-12 01:00:00    1055.494898\n",
       "2015-01-13 01:00:00    1418.780612\n",
       "2015-01-14 01:00:00    1461.744898\n",
       "2015-01-15 01:00:00    1349.090136\n",
       "2015-01-16 01:00:00    1324.090136\n",
       "2015-01-17 01:00:00    1148.518707\n",
       "2015-01-18 01:00:00    1317.280612\n",
       "2015-01-19 01:00:00    1534.494898\n",
       "2015-01-20 01:00:00    1246.780612\n",
       "2015-01-21 01:00:00    1342.744898\n",
       "2015-01-22 01:00:00    1336.090136\n",
       "2015-01-23 01:00:00    1347.090136\n",
       "2015-01-24 01:00:00    1563.518707\n",
       "2015-01-25 01:00:00    1515.280612\n",
       "2015-01-26 01:00:00    1100.494898\n",
       "2015-01-27 01:00:00     826.780612\n",
       "2015-01-28 01:00:00    1049.744898\n",
       "2015-01-29 01:00:00    1254.090136\n",
       "2015-01-30 01:00:00    1539.090136\n",
       "2015-01-31 01:00:00    2153.518707\n",
       "Freq: D, dtype: float64"
      ]
     },
     "execution_count": 299,
     "metadata": {},
     "output_type": "execute_result"
    }
   ],
   "source": [
    "uber_sarimax"
   ]
  },
  {
   "cell_type": "code",
   "execution_count": 249,
   "metadata": {},
   "outputs": [
    {
     "name": "stderr",
     "output_type": "stream",
     "text": [
      "/Users/jerem/anaconda3/lib/python3.7/site-packages/pandas/core/series.py:726: RuntimeWarning: invalid value encountered in log\n",
      "  result = getattr(ufunc, method)(*inputs, **kwargs)\n"
     ]
    },
    {
     "data": {
      "text/plain": [
       "pickup_dt\n",
       "2015-01-01 01:00:00    8.681477\n",
       "2015-01-01 02:00:00    8.595955\n",
       "2015-01-01 03:00:00    8.685119\n",
       "2015-01-01 04:00:00    8.406880\n",
       "2015-01-01 05:00:00    7.942397\n",
       "                         ...   \n",
       "2015-01-31 19:00:00    8.103266\n",
       "2015-01-31 20:00:00    8.285692\n",
       "2015-01-31 21:00:00    8.222486\n",
       "2015-01-31 22:00:00    8.304007\n",
       "2015-01-31 23:00:00    8.452908\n",
       "Length: 743, dtype: float64"
      ]
     },
     "execution_count": 249,
     "metadata": {},
     "output_type": "execute_result"
    }
   ],
   "source": [
    "uber_sarimax = uber_sarimax+1\n",
    "b = np.log(uber_sarimax)\n",
    "b"
   ]
  },
  {
   "cell_type": "code",
   "execution_count": 300,
   "metadata": {},
   "outputs": [],
   "source": [
    "uber_sarimax = uber_sarimax.dropna()"
   ]
  },
  {
   "cell_type": "code",
   "execution_count": 251,
   "metadata": {},
   "outputs": [],
   "source": [
    "b = b.dropna()"
   ]
  },
  {
   "cell_type": "code",
   "execution_count": 252,
   "metadata": {},
   "outputs": [
    {
     "data": {
      "text/plain": [
       "pickup_dt\n",
       "2015-01-01 01:00:00    8.681477\n",
       "2015-01-01 02:00:00    8.595955\n",
       "2015-01-01 03:00:00    8.685119\n",
       "2015-01-01 04:00:00    8.406880\n",
       "2015-01-01 05:00:00    7.942397\n",
       "                         ...   \n",
       "2015-01-31 19:00:00    8.103266\n",
       "2015-01-31 20:00:00    8.285692\n",
       "2015-01-31 21:00:00    8.222486\n",
       "2015-01-31 22:00:00    8.304007\n",
       "2015-01-31 23:00:00    8.452908\n",
       "Length: 732, dtype: float64"
      ]
     },
     "execution_count": 252,
     "metadata": {},
     "output_type": "execute_result"
    }
   ],
   "source": [
    "b"
   ]
  },
  {
   "cell_type": "code",
   "execution_count": 328,
   "metadata": {},
   "outputs": [
    {
     "data": {
      "text/html": [
       "<table class=\"simpletable\">\n",
       "<caption>SARIMAX Results</caption>\n",
       "<tr>\n",
       "  <th>Dep. Variable:</th>           <td>y</td>        <th>  No. Observations:  </th>   <td>11</td>   \n",
       "</tr>\n",
       "<tr>\n",
       "  <th>Model:</th>           <td>SARIMAX(3, 1, 0)</td> <th>  Log Likelihood     </th> <td>-49.006</td>\n",
       "</tr>\n",
       "<tr>\n",
       "  <th>Date:</th>            <td>Sat, 10 Oct 2020</td> <th>  AIC                </th> <td>106.012</td>\n",
       "</tr>\n",
       "<tr>\n",
       "  <th>Time:</th>                <td>17:07:19</td>     <th>  BIC                </th> <td>105.796</td>\n",
       "</tr>\n",
       "<tr>\n",
       "  <th>Sample:</th>             <td>01-01-2015</td>    <th>  HQIC               </th> <td>103.338</td>\n",
       "</tr>\n",
       "<tr>\n",
       "  <th></th>                   <td>- 01-11-2015</td>   <th>                     </th>    <td> </td>   \n",
       "</tr>\n",
       "<tr>\n",
       "  <th>Covariance Type:</th>        <td>opg</td>       <th>                     </th>    <td> </td>   \n",
       "</tr>\n",
       "</table>\n",
       "<table class=\"simpletable\">\n",
       "<tr>\n",
       "     <td></td>       <th>coef</th>     <th>std err</th>      <th>z</th>      <th>P>|z|</th>  <th>[0.025</th>    <th>0.975]</th>  \n",
       "</tr>\n",
       "<tr>\n",
       "  <th>ar.L1</th>  <td>   -3.4906</td> <td>    2.992</td> <td>   -1.166</td> <td> 0.243</td> <td>   -9.356</td> <td>    2.375</td>\n",
       "</tr>\n",
       "<tr>\n",
       "  <th>ar.L2</th>  <td>    2.4031</td> <td>    1.383</td> <td>    1.738</td> <td> 0.082</td> <td>   -0.307</td> <td>    5.113</td>\n",
       "</tr>\n",
       "<tr>\n",
       "  <th>ar.L3</th>  <td>   -1.0322</td> <td>    0.955</td> <td>   -1.081</td> <td> 0.280</td> <td>   -2.903</td> <td>    0.839</td>\n",
       "</tr>\n",
       "<tr>\n",
       "  <th>sigma2</th> <td> 7.054e+04</td> <td> 1.21e+05</td> <td>    0.582</td> <td> 0.561</td> <td>-1.67e+05</td> <td> 3.08e+05</td>\n",
       "</tr>\n",
       "</table>\n",
       "<table class=\"simpletable\">\n",
       "<tr>\n",
       "  <th>Ljung-Box (L1) (Q):</th>      <td>2.86</td>  <th>  Jarque-Bera (JB):  </th> <td>0.90</td>\n",
       "</tr>\n",
       "<tr>\n",
       "  <th>Prob(Q):</th>                 <td>0.09</td>  <th>  Prob(JB):          </th> <td>0.64</td>\n",
       "</tr>\n",
       "<tr>\n",
       "  <th>Heteroskedasticity (H):</th> <td>397.69</td> <th>  Skew:              </th> <td>0.67</td>\n",
       "</tr>\n",
       "<tr>\n",
       "  <th>Prob(H) (two-sided):</th>     <td>0.01</td>  <th>  Kurtosis:          </th> <td>1.85</td>\n",
       "</tr>\n",
       "</table><br/><br/>Warnings:<br/>[1] Covariance matrix calculated using the outer product of gradients (complex-step)."
      ],
      "text/plain": [
       "<class 'statsmodels.iolib.summary.Summary'>\n",
       "\"\"\"\n",
       "                               SARIMAX Results                                \n",
       "==============================================================================\n",
       "Dep. Variable:                      y   No. Observations:                   11\n",
       "Model:               SARIMAX(3, 1, 0)   Log Likelihood                 -49.006\n",
       "Date:                Sat, 10 Oct 2020   AIC                            106.012\n",
       "Time:                        17:07:19   BIC                            105.796\n",
       "Sample:                    01-01-2015   HQIC                           103.338\n",
       "                         - 01-11-2015                                         \n",
       "Covariance Type:                  opg                                         \n",
       "==============================================================================\n",
       "                 coef    std err          z      P>|z|      [0.025      0.975]\n",
       "------------------------------------------------------------------------------\n",
       "ar.L1         -3.4906      2.992     -1.166      0.243      -9.356       2.375\n",
       "ar.L2          2.4031      1.383      1.738      0.082      -0.307       5.113\n",
       "ar.L3         -1.0322      0.955     -1.081      0.280      -2.903       0.839\n",
       "sigma2      7.054e+04   1.21e+05      0.582      0.561   -1.67e+05    3.08e+05\n",
       "===================================================================================\n",
       "Ljung-Box (L1) (Q):                   2.86   Jarque-Bera (JB):                 0.90\n",
       "Prob(Q):                              0.09   Prob(JB):                         0.64\n",
       "Heteroskedasticity (H):             397.69   Skew:                             0.67\n",
       "Prob(H) (two-sided):                  0.01   Kurtosis:                         1.85\n",
       "===================================================================================\n",
       "\n",
       "Warnings:\n",
       "[1] Covariance matrix calculated using the outer product of gradients (complex-step).\n",
       "\"\"\""
      ]
     },
     "execution_count": 328,
     "metadata": {},
     "output_type": "execute_result"
    }
   ],
   "source": [
    "from statsmodels.tsa.statespace.sarimax import  SARIMAX\n",
    "\n",
    "#uber_sarimax.index.freq = train.index.inferred_freq\n",
    "\n",
    "train = uber_sarimax[:-20]\n",
    "test = uber_sarimax[-20:]\n",
    "\n",
    "mod = SARIMAX(train, order=(3,1,0), simple_differencing=False, \n",
    "              enforce_stationarity=False, missing= 'drop') \n",
    "\n",
    "res = mod.fit()\n",
    "res.summary()"
   ]
  },
  {
   "cell_type": "code",
   "execution_count": 329,
   "metadata": {},
   "outputs": [
    {
     "data": {
      "text/html": [
       "\n",
       "    <div class=\"bk-root\">\n",
       "        <a href=\"https://bokeh.org\" target=\"_blank\" class=\"bk-logo bk-logo-small bk-logo-notebook\"></a>\n",
       "        <span id=\"16710\">Loading BokehJS ...</span>\n",
       "    </div>"
      ]
     },
     "metadata": {},
     "output_type": "display_data"
    },
    {
     "data": {
      "application/javascript": [
       "\n",
       "(function(root) {\n",
       "  function now() {\n",
       "    return new Date();\n",
       "  }\n",
       "\n",
       "  var force = true;\n",
       "\n",
       "  if (typeof root._bokeh_onload_callbacks === \"undefined\" || force === true) {\n",
       "    root._bokeh_onload_callbacks = [];\n",
       "    root._bokeh_is_loading = undefined;\n",
       "  }\n",
       "\n",
       "  var JS_MIME_TYPE = 'application/javascript';\n",
       "  var HTML_MIME_TYPE = 'text/html';\n",
       "  var EXEC_MIME_TYPE = 'application/vnd.bokehjs_exec.v0+json';\n",
       "  var CLASS_NAME = 'output_bokeh rendered_html';\n",
       "\n",
       "  /**\n",
       "   * Render data to the DOM node\n",
       "   */\n",
       "  function render(props, node) {\n",
       "    var script = document.createElement(\"script\");\n",
       "    node.appendChild(script);\n",
       "  }\n",
       "\n",
       "  /**\n",
       "   * Handle when an output is cleared or removed\n",
       "   */\n",
       "  function handleClearOutput(event, handle) {\n",
       "    var cell = handle.cell;\n",
       "\n",
       "    var id = cell.output_area._bokeh_element_id;\n",
       "    var server_id = cell.output_area._bokeh_server_id;\n",
       "    // Clean up Bokeh references\n",
       "    if (id != null && id in Bokeh.index) {\n",
       "      Bokeh.index[id].model.document.clear();\n",
       "      delete Bokeh.index[id];\n",
       "    }\n",
       "\n",
       "    if (server_id !== undefined) {\n",
       "      // Clean up Bokeh references\n",
       "      var cmd = \"from bokeh.io.state import curstate; print(curstate().uuid_to_server['\" + server_id + \"'].get_sessions()[0].document.roots[0]._id)\";\n",
       "      cell.notebook.kernel.execute(cmd, {\n",
       "        iopub: {\n",
       "          output: function(msg) {\n",
       "            var id = msg.content.text.trim();\n",
       "            if (id in Bokeh.index) {\n",
       "              Bokeh.index[id].model.document.clear();\n",
       "              delete Bokeh.index[id];\n",
       "            }\n",
       "          }\n",
       "        }\n",
       "      });\n",
       "      // Destroy server and session\n",
       "      var cmd = \"import bokeh.io.notebook as ion; ion.destroy_server('\" + server_id + \"')\";\n",
       "      cell.notebook.kernel.execute(cmd);\n",
       "    }\n",
       "  }\n",
       "\n",
       "  /**\n",
       "   * Handle when a new output is added\n",
       "   */\n",
       "  function handleAddOutput(event, handle) {\n",
       "    var output_area = handle.output_area;\n",
       "    var output = handle.output;\n",
       "\n",
       "    // limit handleAddOutput to display_data with EXEC_MIME_TYPE content only\n",
       "    if ((output.output_type != \"display_data\") || (!output.data.hasOwnProperty(EXEC_MIME_TYPE))) {\n",
       "      return\n",
       "    }\n",
       "\n",
       "    var toinsert = output_area.element.find(\".\" + CLASS_NAME.split(' ')[0]);\n",
       "\n",
       "    if (output.metadata[EXEC_MIME_TYPE][\"id\"] !== undefined) {\n",
       "      toinsert[toinsert.length - 1].firstChild.textContent = output.data[JS_MIME_TYPE];\n",
       "      // store reference to embed id on output_area\n",
       "      output_area._bokeh_element_id = output.metadata[EXEC_MIME_TYPE][\"id\"];\n",
       "    }\n",
       "    if (output.metadata[EXEC_MIME_TYPE][\"server_id\"] !== undefined) {\n",
       "      var bk_div = document.createElement(\"div\");\n",
       "      bk_div.innerHTML = output.data[HTML_MIME_TYPE];\n",
       "      var script_attrs = bk_div.children[0].attributes;\n",
       "      for (var i = 0; i < script_attrs.length; i++) {\n",
       "        toinsert[toinsert.length - 1].firstChild.setAttribute(script_attrs[i].name, script_attrs[i].value);\n",
       "        toinsert[toinsert.length - 1].firstChild.textContent = bk_div.children[0].textContent\n",
       "      }\n",
       "      // store reference to server id on output_area\n",
       "      output_area._bokeh_server_id = output.metadata[EXEC_MIME_TYPE][\"server_id\"];\n",
       "    }\n",
       "  }\n",
       "\n",
       "  function register_renderer(events, OutputArea) {\n",
       "\n",
       "    function append_mime(data, metadata, element) {\n",
       "      // create a DOM node to render to\n",
       "      var toinsert = this.create_output_subarea(\n",
       "        metadata,\n",
       "        CLASS_NAME,\n",
       "        EXEC_MIME_TYPE\n",
       "      );\n",
       "      this.keyboard_manager.register_events(toinsert);\n",
       "      // Render to node\n",
       "      var props = {data: data, metadata: metadata[EXEC_MIME_TYPE]};\n",
       "      render(props, toinsert[toinsert.length - 1]);\n",
       "      element.append(toinsert);\n",
       "      return toinsert\n",
       "    }\n",
       "\n",
       "    /* Handle when an output is cleared or removed */\n",
       "    events.on('clear_output.CodeCell', handleClearOutput);\n",
       "    events.on('delete.Cell', handleClearOutput);\n",
       "\n",
       "    /* Handle when a new output is added */\n",
       "    events.on('output_added.OutputArea', handleAddOutput);\n",
       "\n",
       "    /**\n",
       "     * Register the mime type and append_mime function with output_area\n",
       "     */\n",
       "    OutputArea.prototype.register_mime_type(EXEC_MIME_TYPE, append_mime, {\n",
       "      /* Is output safe? */\n",
       "      safe: true,\n",
       "      /* Index of renderer in `output_area.display_order` */\n",
       "      index: 0\n",
       "    });\n",
       "  }\n",
       "\n",
       "  // register the mime type if in Jupyter Notebook environment and previously unregistered\n",
       "  if (root.Jupyter !== undefined) {\n",
       "    var events = require('base/js/events');\n",
       "    var OutputArea = require('notebook/js/outputarea').OutputArea;\n",
       "\n",
       "    if (OutputArea.prototype.mime_types().indexOf(EXEC_MIME_TYPE) == -1) {\n",
       "      register_renderer(events, OutputArea);\n",
       "    }\n",
       "  }\n",
       "\n",
       "  \n",
       "  if (typeof (root._bokeh_timeout) === \"undefined\" || force === true) {\n",
       "    root._bokeh_timeout = Date.now() + 5000;\n",
       "    root._bokeh_failed_load = false;\n",
       "  }\n",
       "\n",
       "  var NB_LOAD_WARNING = {'data': {'text/html':\n",
       "     \"<div style='background-color: #fdd'>\\n\"+\n",
       "     \"<p>\\n\"+\n",
       "     \"BokehJS does not appear to have successfully loaded. If loading BokehJS from CDN, this \\n\"+\n",
       "     \"may be due to a slow or bad network connection. Possible fixes:\\n\"+\n",
       "     \"</p>\\n\"+\n",
       "     \"<ul>\\n\"+\n",
       "     \"<li>re-rerun `output_notebook()` to attempt to load from CDN again, or</li>\\n\"+\n",
       "     \"<li>use INLINE resources instead, as so:</li>\\n\"+\n",
       "     \"</ul>\\n\"+\n",
       "     \"<code>\\n\"+\n",
       "     \"from bokeh.resources import INLINE\\n\"+\n",
       "     \"output_notebook(resources=INLINE)\\n\"+\n",
       "     \"</code>\\n\"+\n",
       "     \"</div>\"}};\n",
       "\n",
       "  function display_loaded() {\n",
       "    var el = document.getElementById(\"16710\");\n",
       "    if (el != null) {\n",
       "      el.textContent = \"BokehJS is loading...\";\n",
       "    }\n",
       "    if (root.Bokeh !== undefined) {\n",
       "      if (el != null) {\n",
       "        el.textContent = \"BokehJS \" + root.Bokeh.version + \" successfully loaded.\";\n",
       "      }\n",
       "    } else if (Date.now() < root._bokeh_timeout) {\n",
       "      setTimeout(display_loaded, 100)\n",
       "    }\n",
       "  }\n",
       "\n",
       "\n",
       "  function run_callbacks() {\n",
       "    try {\n",
       "      root._bokeh_onload_callbacks.forEach(function(callback) {\n",
       "        if (callback != null)\n",
       "          callback();\n",
       "      });\n",
       "    } finally {\n",
       "      delete root._bokeh_onload_callbacks\n",
       "    }\n",
       "    console.debug(\"Bokeh: all callbacks have finished\");\n",
       "  }\n",
       "\n",
       "  function load_libs(css_urls, js_urls, callback) {\n",
       "    if (css_urls == null) css_urls = [];\n",
       "    if (js_urls == null) js_urls = [];\n",
       "\n",
       "    root._bokeh_onload_callbacks.push(callback);\n",
       "    if (root._bokeh_is_loading > 0) {\n",
       "      console.debug(\"Bokeh: BokehJS is being loaded, scheduling callback at\", now());\n",
       "      return null;\n",
       "    }\n",
       "    if (js_urls == null || js_urls.length === 0) {\n",
       "      run_callbacks();\n",
       "      return null;\n",
       "    }\n",
       "    console.debug(\"Bokeh: BokehJS not loaded, scheduling load and callback at\", now());\n",
       "    root._bokeh_is_loading = css_urls.length + js_urls.length;\n",
       "\n",
       "    function on_load() {\n",
       "      root._bokeh_is_loading--;\n",
       "      if (root._bokeh_is_loading === 0) {\n",
       "        console.debug(\"Bokeh: all BokehJS libraries/stylesheets loaded\");\n",
       "        run_callbacks()\n",
       "      }\n",
       "    }\n",
       "\n",
       "    function on_error() {\n",
       "      console.error(\"failed to load \" + url);\n",
       "    }\n",
       "\n",
       "    for (var i = 0; i < css_urls.length; i++) {\n",
       "      var url = css_urls[i];\n",
       "      const element = document.createElement(\"link\");\n",
       "      element.onload = on_load;\n",
       "      element.onerror = on_error;\n",
       "      element.rel = \"stylesheet\";\n",
       "      element.type = \"text/css\";\n",
       "      element.href = url;\n",
       "      console.debug(\"Bokeh: injecting link tag for BokehJS stylesheet: \", url);\n",
       "      document.body.appendChild(element);\n",
       "    }\n",
       "\n",
       "    const hashes = {\"https://cdn.bokeh.org/bokeh/release/bokeh-2.2.1.min.js\": \"qkRvDQVAIfzsJo40iRBbxt6sttt0hv4lh74DG7OK4MCHv4C5oohXYoHUM5W11uqS\", \"https://cdn.bokeh.org/bokeh/release/bokeh-widgets-2.2.1.min.js\": \"Sb7Mr06a9TNlet/GEBeKaf5xH3eb6AlCzwjtU82wNPyDrnfoiVl26qnvlKjmcAd+\", \"https://cdn.bokeh.org/bokeh/release/bokeh-tables-2.2.1.min.js\": \"HaJ15vgfmcfRtB4c4YBOI4f1MUujukqInOWVqZJZZGK7Q+ivud0OKGSTn/Vm2iso\"};\n",
       "\n",
       "    for (var i = 0; i < js_urls.length; i++) {\n",
       "      var url = js_urls[i];\n",
       "      var element = document.createElement('script');\n",
       "      element.onload = on_load;\n",
       "      element.onerror = on_error;\n",
       "      element.async = false;\n",
       "      element.src = url;\n",
       "      if (url in hashes) {\n",
       "        element.crossOrigin = \"anonymous\";\n",
       "        element.integrity = \"sha384-\" + hashes[url];\n",
       "      }\n",
       "      console.debug(\"Bokeh: injecting script tag for BokehJS library: \", url);\n",
       "      document.head.appendChild(element);\n",
       "    }\n",
       "  };\n",
       "\n",
       "  function inject_raw_css(css) {\n",
       "    const element = document.createElement(\"style\");\n",
       "    element.appendChild(document.createTextNode(css));\n",
       "    document.body.appendChild(element);\n",
       "  }\n",
       "\n",
       "  \n",
       "  var js_urls = [\"https://cdn.bokeh.org/bokeh/release/bokeh-2.2.1.min.js\", \"https://cdn.bokeh.org/bokeh/release/bokeh-widgets-2.2.1.min.js\", \"https://cdn.bokeh.org/bokeh/release/bokeh-tables-2.2.1.min.js\"];\n",
       "  var css_urls = [];\n",
       "  \n",
       "\n",
       "  var inline_js = [\n",
       "    function(Bokeh) {\n",
       "      Bokeh.set_log_level(\"info\");\n",
       "    },\n",
       "    function(Bokeh) {\n",
       "    \n",
       "    \n",
       "    }\n",
       "  ];\n",
       "\n",
       "  function run_inline_js() {\n",
       "    \n",
       "    if (root.Bokeh !== undefined || force === true) {\n",
       "      \n",
       "    for (var i = 0; i < inline_js.length; i++) {\n",
       "      inline_js[i].call(root, root.Bokeh);\n",
       "    }\n",
       "    if (force === true) {\n",
       "        display_loaded();\n",
       "      }} else if (Date.now() < root._bokeh_timeout) {\n",
       "      setTimeout(run_inline_js, 100);\n",
       "    } else if (!root._bokeh_failed_load) {\n",
       "      console.log(\"Bokeh: BokehJS failed to load within specified timeout.\");\n",
       "      root._bokeh_failed_load = true;\n",
       "    } else if (force !== true) {\n",
       "      var cell = $(document.getElementById(\"16710\")).parents('.cell').data().cell;\n",
       "      cell.output_area.append_execute_result(NB_LOAD_WARNING)\n",
       "    }\n",
       "\n",
       "  }\n",
       "\n",
       "  if (root._bokeh_is_loading === 0) {\n",
       "    console.debug(\"Bokeh: BokehJS loaded, going straight to plotting\");\n",
       "    run_inline_js();\n",
       "  } else {\n",
       "    load_libs(css_urls, js_urls, function() {\n",
       "      console.debug(\"Bokeh: BokehJS plotting callback run at\", now());\n",
       "      run_inline_js();\n",
       "    });\n",
       "  }\n",
       "}(window));"
      ],
      "application/vnd.bokehjs_load.v0+json": "\n(function(root) {\n  function now() {\n    return new Date();\n  }\n\n  var force = true;\n\n  if (typeof root._bokeh_onload_callbacks === \"undefined\" || force === true) {\n    root._bokeh_onload_callbacks = [];\n    root._bokeh_is_loading = undefined;\n  }\n\n  \n\n  \n  if (typeof (root._bokeh_timeout) === \"undefined\" || force === true) {\n    root._bokeh_timeout = Date.now() + 5000;\n    root._bokeh_failed_load = false;\n  }\n\n  var NB_LOAD_WARNING = {'data': {'text/html':\n     \"<div style='background-color: #fdd'>\\n\"+\n     \"<p>\\n\"+\n     \"BokehJS does not appear to have successfully loaded. If loading BokehJS from CDN, this \\n\"+\n     \"may be due to a slow or bad network connection. Possible fixes:\\n\"+\n     \"</p>\\n\"+\n     \"<ul>\\n\"+\n     \"<li>re-rerun `output_notebook()` to attempt to load from CDN again, or</li>\\n\"+\n     \"<li>use INLINE resources instead, as so:</li>\\n\"+\n     \"</ul>\\n\"+\n     \"<code>\\n\"+\n     \"from bokeh.resources import INLINE\\n\"+\n     \"output_notebook(resources=INLINE)\\n\"+\n     \"</code>\\n\"+\n     \"</div>\"}};\n\n  function display_loaded() {\n    var el = document.getElementById(\"16710\");\n    if (el != null) {\n      el.textContent = \"BokehJS is loading...\";\n    }\n    if (root.Bokeh !== undefined) {\n      if (el != null) {\n        el.textContent = \"BokehJS \" + root.Bokeh.version + \" successfully loaded.\";\n      }\n    } else if (Date.now() < root._bokeh_timeout) {\n      setTimeout(display_loaded, 100)\n    }\n  }\n\n\n  function run_callbacks() {\n    try {\n      root._bokeh_onload_callbacks.forEach(function(callback) {\n        if (callback != null)\n          callback();\n      });\n    } finally {\n      delete root._bokeh_onload_callbacks\n    }\n    console.debug(\"Bokeh: all callbacks have finished\");\n  }\n\n  function load_libs(css_urls, js_urls, callback) {\n    if (css_urls == null) css_urls = [];\n    if (js_urls == null) js_urls = [];\n\n    root._bokeh_onload_callbacks.push(callback);\n    if (root._bokeh_is_loading > 0) {\n      console.debug(\"Bokeh: BokehJS is being loaded, scheduling callback at\", now());\n      return null;\n    }\n    if (js_urls == null || js_urls.length === 0) {\n      run_callbacks();\n      return null;\n    }\n    console.debug(\"Bokeh: BokehJS not loaded, scheduling load and callback at\", now());\n    root._bokeh_is_loading = css_urls.length + js_urls.length;\n\n    function on_load() {\n      root._bokeh_is_loading--;\n      if (root._bokeh_is_loading === 0) {\n        console.debug(\"Bokeh: all BokehJS libraries/stylesheets loaded\");\n        run_callbacks()\n      }\n    }\n\n    function on_error() {\n      console.error(\"failed to load \" + url);\n    }\n\n    for (var i = 0; i < css_urls.length; i++) {\n      var url = css_urls[i];\n      const element = document.createElement(\"link\");\n      element.onload = on_load;\n      element.onerror = on_error;\n      element.rel = \"stylesheet\";\n      element.type = \"text/css\";\n      element.href = url;\n      console.debug(\"Bokeh: injecting link tag for BokehJS stylesheet: \", url);\n      document.body.appendChild(element);\n    }\n\n    const hashes = {\"https://cdn.bokeh.org/bokeh/release/bokeh-2.2.1.min.js\": \"qkRvDQVAIfzsJo40iRBbxt6sttt0hv4lh74DG7OK4MCHv4C5oohXYoHUM5W11uqS\", \"https://cdn.bokeh.org/bokeh/release/bokeh-widgets-2.2.1.min.js\": \"Sb7Mr06a9TNlet/GEBeKaf5xH3eb6AlCzwjtU82wNPyDrnfoiVl26qnvlKjmcAd+\", \"https://cdn.bokeh.org/bokeh/release/bokeh-tables-2.2.1.min.js\": \"HaJ15vgfmcfRtB4c4YBOI4f1MUujukqInOWVqZJZZGK7Q+ivud0OKGSTn/Vm2iso\"};\n\n    for (var i = 0; i < js_urls.length; i++) {\n      var url = js_urls[i];\n      var element = document.createElement('script');\n      element.onload = on_load;\n      element.onerror = on_error;\n      element.async = false;\n      element.src = url;\n      if (url in hashes) {\n        element.crossOrigin = \"anonymous\";\n        element.integrity = \"sha384-\" + hashes[url];\n      }\n      console.debug(\"Bokeh: injecting script tag for BokehJS library: \", url);\n      document.head.appendChild(element);\n    }\n  };\n\n  function inject_raw_css(css) {\n    const element = document.createElement(\"style\");\n    element.appendChild(document.createTextNode(css));\n    document.body.appendChild(element);\n  }\n\n  \n  var js_urls = [\"https://cdn.bokeh.org/bokeh/release/bokeh-2.2.1.min.js\", \"https://cdn.bokeh.org/bokeh/release/bokeh-widgets-2.2.1.min.js\", \"https://cdn.bokeh.org/bokeh/release/bokeh-tables-2.2.1.min.js\"];\n  var css_urls = [];\n  \n\n  var inline_js = [\n    function(Bokeh) {\n      Bokeh.set_log_level(\"info\");\n    },\n    function(Bokeh) {\n    \n    \n    }\n  ];\n\n  function run_inline_js() {\n    \n    if (root.Bokeh !== undefined || force === true) {\n      \n    for (var i = 0; i < inline_js.length; i++) {\n      inline_js[i].call(root, root.Bokeh);\n    }\n    if (force === true) {\n        display_loaded();\n      }} else if (Date.now() < root._bokeh_timeout) {\n      setTimeout(run_inline_js, 100);\n    } else if (!root._bokeh_failed_load) {\n      console.log(\"Bokeh: BokehJS failed to load within specified timeout.\");\n      root._bokeh_failed_load = true;\n    } else if (force !== true) {\n      var cell = $(document.getElementById(\"16710\")).parents('.cell').data().cell;\n      cell.output_area.append_execute_result(NB_LOAD_WARNING)\n    }\n\n  }\n\n  if (root._bokeh_is_loading === 0) {\n    console.debug(\"Bokeh: BokehJS loaded, going straight to plotting\");\n    run_inline_js();\n  } else {\n    load_libs(css_urls, js_urls, function() {\n      console.debug(\"Bokeh: BokehJS plotting callback run at\", now());\n      run_inline_js();\n    });\n  }\n}(window));"
     },
     "metadata": {},
     "output_type": "display_data"
    }
   ],
   "source": [
    "# Utilisation de Bokeh comme backend pour les plots pandas. \n",
    "# C'est mon choix, vous faites comme vous voulez\n",
    "import pandas_bokeh\n",
    "pandas_bokeh.output_notebook()\n",
    "pd.set_option(\"plotting.backend\", \"pandas_bokeh\")\n"
   ]
  },
  {
   "cell_type": "code",
   "execution_count": 330,
   "metadata": {},
   "outputs": [],
   "source": [
    "pred = res.get_forecast(10)"
   ]
  },
  {
   "cell_type": "code",
   "execution_count": 331,
   "metadata": {},
   "outputs": [
    {
     "data": {
      "text/html": [
       "\n",
       "\n",
       "\n",
       "\n",
       "\n",
       "\n",
       "  <div class=\"bk-root\" id=\"40392031-1f7d-4079-b136-8033b9c6135f\" data-root-id=\"16711\"></div>\n"
      ]
     },
     "metadata": {},
     "output_type": "display_data"
    },
    {
     "data": {
      "application/javascript": [
       "(function(root) {\n",
       "  function embed_document(root) {\n",
       "    \n",
       "  var docs_json = {\"275cc3cf-3dd9-412f-ad8d-8f5ce730265b\":{\"roots\":{\"references\":[{\"attributes\":{\"below\":[{\"id\":\"16722\"}],\"center\":[{\"id\":\"16725\"},{\"id\":\"16729\"},{\"id\":\"16770\"}],\"left\":[{\"id\":\"16726\"}],\"output_backend\":\"webgl\",\"plot_height\":400,\"renderers\":[{\"id\":\"16748\"},{\"id\":\"16778\"}],\"sizing_mode\":\"fixed\",\"title\":{\"id\":\"16712\"},\"toolbar\":{\"id\":\"16737\"},\"x_range\":{\"id\":\"16714\"},\"x_scale\":{\"id\":\"16718\"},\"y_range\":{\"id\":\"16716\"},\"y_scale\":{\"id\":\"16720\"}},\"id\":\"16711\",\"subtype\":\"Figure\",\"type\":\"Plot\"},{\"attributes\":{},\"id\":\"16733\",\"type\":\"SaveTool\"},{\"attributes\":{\"label\":{\"value\":\" predicted_mean\"},\"renderers\":[{\"id\":\"16778\"}]},\"id\":\"16802\",\"type\":\"LegendItem\"},{\"attributes\":{\"line_color\":\"orange\",\"line_width\":2,\"x\":{\"field\":\"__x__values\"},\"y\":{\"field\":\"predicted_mean\"}},\"id\":\"16776\",\"type\":\"Line\"},{\"attributes\":{},\"id\":\"16720\",\"type\":\"LinearScale\"},{\"attributes\":{},\"id\":\"16734\",\"type\":\"ResetTool\"},{\"attributes\":{\"base\":60,\"mantissas\":[1,2,5,10,15,20,30],\"max_interval\":1800000.0,\"min_interval\":1000.0,\"num_minor_ticks\":0},\"id\":\"16756\",\"type\":\"AdaptiveTicker\"},{\"attributes\":{\"data\":{\"0\":{\"__ndarray__\":\"7g0oExeftkB0b0CZuLiLQEiLkL9mL2XAHOtDY33Ud0BorA+N9RuPQMb60FgfG5RANNaHxvqik0C6N6BMXOCTQLo3oExcVJRAl+4NKBOqkkBkfWisj5CgQDTWh8b6fZBAxvrQWB8rlkA01ofG+taWQLo3oExcFJVAujegTFywlECX7g0oE/KRQMf60FgflZRANNaHxvr5l0DG+tBYH3uTQDTWh8b6+pRAujegTFzglEC6N6BMXAyVQJfuDSgTbphAx/rQWB+tl0A01ofG+jGRQI31obE+1olANNaHxvpmkEC6N6BMXJiTQLo3oExcDJhATPcGlAnToEA=\",\"dtype\":\"float64\",\"order\":\"little\",\"shape\":[31]},\"__x__values\":{\"__ndarray__\":\"AADoGTCqdEIAAKh/gqp0QgAAaOXUqnRCAAAoSyerdEIAAOiweat0QgAAqBbMq3RCAABofB6sdEIAACjicKx0QgAA6EfDrHRCAACorRWtdEIAAGgTaK10QgAAKHm6rXRCAADo3gyudEIAAKhEX650QgAAaKqxrnRCAAAoEASvdEIAAOh1Vq90QgAAqNuor3RCAABoQfuvdEIAACinTbB0QgAA6AygsHRCAACocvKwdEIAAGjYRLF0QgAAKD6XsXRCAADoo+mxdEIAAKgJPLJ0QgAAaG+OsnRCAAAo1eCydEIAAOg6M7N0QgAAqKCFs3RCAABoBtizdEI=\",\"dtype\":\"float64\",\"order\":\"little\",\"shape\":[31]},\"__x__values_original\":{\"__ndarray__\":\"AADoGTCqdEIAAKh/gqp0QgAAaOXUqnRCAAAoSyerdEIAAOiweat0QgAAqBbMq3RCAABofB6sdEIAACjicKx0QgAA6EfDrHRCAACorRWtdEIAAGgTaK10QgAAKHm6rXRCAADo3gyudEIAAKhEX650QgAAaKqxrnRCAAAoEASvdEIAAOh1Vq90QgAAqNuor3RCAABoQfuvdEIAACinTbB0QgAA6AygsHRCAACocvKwdEIAAGjYRLF0QgAAKD6XsXRCAADoo+mxdEIAAKgJPLJ0QgAAaG+OsnRCAAAo1eCydEIAAOg6M7N0QgAAqKCFs3RCAABoBtizdEI=\",\"dtype\":\"float64\",\"order\":\"little\",\"shape\":[31]},\"predicted_mean\":{\"__ndarray__\":\"AAAAAAAA+H8AAAAAAAD4fwAAAAAAAPh/AAAAAAAA+H8AAAAAAAD4fwAAAAAAAPh/AAAAAAAA+H8AAAAAAAD4fwAAAAAAAPh/AAAAAAAA+H8AAAAAAAD4f+imL+Hn1JXAExjK/dnPyUBOdToRGAznwKSgJZoitghBXv5PqkROKcE+Qe2aUDNKQZL9/ib8DWvB7ujLEWX0i0HY6vvwUOGswVb5sJhe1s1BAAAAAAAA+H8AAAAAAAD4fwAAAAAAAPh/AAAAAAAA+H8AAAAAAAD4fwAAAAAAAPh/AAAAAAAA+H8AAAAAAAD4fwAAAAAAAPh/AAAAAAAA+H8=\",\"dtype\":\"float64\",\"order\":\"little\",\"shape\":[31]}},\"selected\":{\"id\":\"16801\"},\"selection_policy\":{\"id\":\"16800\"}},\"id\":\"16774\",\"type\":\"ColumnDataSource\"},{\"attributes\":{\"active_drag\":\"auto\",\"active_inspect\":\"auto\",\"active_multi\":null,\"active_scroll\":{\"id\":\"16731\"},\"active_tap\":\"auto\",\"tools\":[{\"id\":\"16730\"},{\"id\":\"16731\"},{\"id\":\"16732\"},{\"id\":\"16733\"},{\"id\":\"16734\"},{\"id\":\"16735\"},{\"id\":\"16772\"},{\"id\":\"16803\"}]},\"id\":\"16737\",\"type\":\"Toolbar\"},{\"attributes\":{\"text\":\"\"},\"id\":\"16712\",\"type\":\"Title\"},{\"attributes\":{\"days\":[1,8,15,22]},\"id\":\"16760\",\"type\":\"DaysTicker\"},{\"attributes\":{},\"id\":\"16800\",\"type\":\"UnionRenderers\"},{\"attributes\":{},\"id\":\"16727\",\"type\":\"BasicTicker\"},{\"attributes\":{\"line_color\":\"blue\",\"line_width\":2,\"x\":{\"field\":\"__x__values\"},\"y\":{\"field\":\"0\"}},\"id\":\"16746\",\"type\":\"Line\"},{\"attributes\":{\"days\":[1,2,3,4,5,6,7,8,9,10,11,12,13,14,15,16,17,18,19,20,21,22,23,24,25,26,27,28,29,30,31]},\"id\":\"16758\",\"type\":\"DaysTicker\"},{\"attributes\":{\"days\":[1,4,7,10,13,16,19,22,25,28]},\"id\":\"16759\",\"type\":\"DaysTicker\"},{\"attributes\":{\"formatter\":{\"id\":\"16751\"},\"ticker\":{\"id\":\"16727\"}},\"id\":\"16726\",\"type\":\"LinearAxis\"},{\"attributes\":{\"axis\":{\"id\":\"16726\"},\"dimension\":1,\"ticker\":null},\"id\":\"16729\",\"type\":\"Grid\"},{\"attributes\":{},\"id\":\"16769\",\"type\":\"Selection\"},{\"attributes\":{\"line_alpha\":0.1,\"line_color\":\"orange\",\"line_width\":2,\"x\":{\"field\":\"__x__values\"},\"y\":{\"field\":\"predicted_mean\"}},\"id\":\"16777\",\"type\":\"Line\"},{\"attributes\":{\"source\":{\"id\":\"16774\"}},\"id\":\"16779\",\"type\":\"CDSView\"},{\"attributes\":{},\"id\":\"16730\",\"type\":\"PanTool\"},{\"attributes\":{\"line_alpha\":0.1,\"line_color\":\"blue\",\"line_width\":2,\"x\":{\"field\":\"__x__values\"},\"y\":{\"field\":\"0\"}},\"id\":\"16747\",\"type\":\"Line\"},{\"attributes\":{},\"id\":\"16714\",\"type\":\"DataRange1d\"},{\"attributes\":{},\"id\":\"16735\",\"type\":\"HelpTool\"},{\"attributes\":{\"callback\":null,\"formatters\":{\"@__x__values_original\":\"datetime\"},\"mode\":\"vline\",\"renderers\":[{\"id\":\"16748\"}],\"tooltips\":[[\"pickup_dt\",\"@__x__values_original{%F}\"],[\"0\",\"@{0}\"]]},\"id\":\"16772\",\"type\":\"HoverTool\"},{\"attributes\":{},\"id\":\"16716\",\"type\":\"DataRange1d\"},{\"attributes\":{\"data_source\":{\"id\":\"16744\"},\"glyph\":{\"id\":\"16746\"},\"hover_glyph\":null,\"muted_glyph\":null,\"nonselection_glyph\":{\"id\":\"16747\"},\"selection_glyph\":null,\"view\":{\"id\":\"16749\"}},\"id\":\"16748\",\"type\":\"GlyphRenderer\"},{\"attributes\":{\"source\":{\"id\":\"16744\"}},\"id\":\"16749\",\"type\":\"CDSView\"},{\"attributes\":{\"months\":[0,6]},\"id\":\"16765\",\"type\":\"MonthsTicker\"},{\"attributes\":{\"label\":{\"value\":\" 0\"},\"renderers\":[{\"id\":\"16748\"}]},\"id\":\"16771\",\"type\":\"LegendItem\"},{\"attributes\":{\"base\":24,\"mantissas\":[1,2,4,6,8,12],\"max_interval\":43200000.0,\"min_interval\":3600000.0,\"num_minor_ticks\":0},\"id\":\"16757\",\"type\":\"AdaptiveTicker\"},{\"attributes\":{\"data\":{\"0\":{\"__ndarray__\":\"7g0oExeftkB0b0CZuLiLQEiLkL9mL2XAHOtDY33Ud0BorA+N9RuPQMb60FgfG5RANNaHxvqik0C6N6BMXOCTQLo3oExcVJRAl+4NKBOqkkBkfWisj5CgQDTWh8b6fZBAxvrQWB8rlkA01ofG+taWQLo3oExcFJVAujegTFywlECX7g0oE/KRQMf60FgflZRANNaHxvr5l0DG+tBYH3uTQDTWh8b6+pRAujegTFzglEC6N6BMXAyVQJfuDSgTbphAx/rQWB+tl0A01ofG+jGRQI31obE+1olANNaHxvpmkEC6N6BMXJiTQLo3oExcDJhATPcGlAnToEA=\",\"dtype\":\"float64\",\"order\":\"little\",\"shape\":[31]},\"__x__values\":{\"__ndarray__\":\"AADoGTCqdEIAAKh/gqp0QgAAaOXUqnRCAAAoSyerdEIAAOiweat0QgAAqBbMq3RCAABofB6sdEIAACjicKx0QgAA6EfDrHRCAACorRWtdEIAAGgTaK10QgAAKHm6rXRCAADo3gyudEIAAKhEX650QgAAaKqxrnRCAAAoEASvdEIAAOh1Vq90QgAAqNuor3RCAABoQfuvdEIAACinTbB0QgAA6AygsHRCAACocvKwdEIAAGjYRLF0QgAAKD6XsXRCAADoo+mxdEIAAKgJPLJ0QgAAaG+OsnRCAAAo1eCydEIAAOg6M7N0QgAAqKCFs3RCAABoBtizdEI=\",\"dtype\":\"float64\",\"order\":\"little\",\"shape\":[31]},\"__x__values_original\":{\"__ndarray__\":\"AADoGTCqdEIAAKh/gqp0QgAAaOXUqnRCAAAoSyerdEIAAOiweat0QgAAqBbMq3RCAABofB6sdEIAACjicKx0QgAA6EfDrHRCAACorRWtdEIAAGgTaK10QgAAKHm6rXRCAADo3gyudEIAAKhEX650QgAAaKqxrnRCAAAoEASvdEIAAOh1Vq90QgAAqNuor3RCAABoQfuvdEIAACinTbB0QgAA6AygsHRCAACocvKwdEIAAGjYRLF0QgAAKD6XsXRCAADoo+mxdEIAAKgJPLJ0QgAAaG+OsnRCAAAo1eCydEIAAOg6M7N0QgAAqKCFs3RCAABoBtizdEI=\",\"dtype\":\"float64\",\"order\":\"little\",\"shape\":[31]},\"predicted_mean\":{\"__ndarray__\":\"AAAAAAAA+H8AAAAAAAD4fwAAAAAAAPh/AAAAAAAA+H8AAAAAAAD4fwAAAAAAAPh/AAAAAAAA+H8AAAAAAAD4fwAAAAAAAPh/AAAAAAAA+H8AAAAAAAD4f+imL+Hn1JXAExjK/dnPyUBOdToRGAznwKSgJZoitghBXv5PqkROKcE+Qe2aUDNKQZL9/ib8DWvB7ujLEWX0i0HY6vvwUOGswVb5sJhe1s1BAAAAAAAA+H8AAAAAAAD4fwAAAAAAAPh/AAAAAAAA+H8AAAAAAAD4fwAAAAAAAPh/AAAAAAAA+H8AAAAAAAD4fwAAAAAAAPh/AAAAAAAA+H8=\",\"dtype\":\"float64\",\"order\":\"little\",\"shape\":[31]}},\"selected\":{\"id\":\"16769\"},\"selection_policy\":{\"id\":\"16768\"}},\"id\":\"16744\",\"type\":\"ColumnDataSource\"},{\"attributes\":{},\"id\":\"16768\",\"type\":\"UnionRenderers\"},{\"attributes\":{\"data_source\":{\"id\":\"16774\"},\"glyph\":{\"id\":\"16776\"},\"hover_glyph\":null,\"muted_glyph\":null,\"nonselection_glyph\":{\"id\":\"16777\"},\"selection_glyph\":null,\"view\":{\"id\":\"16779\"}},\"id\":\"16778\",\"type\":\"GlyphRenderer\"},{\"attributes\":{\"days\":[1,15]},\"id\":\"16761\",\"type\":\"DaysTicker\"},{\"attributes\":{\"days\":[\"%d %B %Y\"],\"hours\":[\"%H:%M:%S\"],\"milliseconds\":[\"%H:%M:%S.%f\"],\"minutes\":[\"%H:%M:%S\"],\"months\":[\"%d %B %Y\"],\"seconds\":[\"%H:%M:%S\"],\"years\":[\"%d %B %Y\"]},\"id\":\"16805\",\"type\":\"DatetimeTickFormatter\"},{\"attributes\":{\"bottom_units\":\"screen\",\"fill_alpha\":0.5,\"fill_color\":\"lightgrey\",\"left_units\":\"screen\",\"level\":\"overlay\",\"line_alpha\":1.0,\"line_color\":\"black\",\"line_dash\":[4,4],\"line_width\":2,\"right_units\":\"screen\",\"top_units\":\"screen\"},\"id\":\"16736\",\"type\":\"BoxAnnotation\"},{\"attributes\":{},\"id\":\"16801\",\"type\":\"Selection\"},{\"attributes\":{\"callback\":null,\"formatters\":{\"@__x__values_original\":\"datetime\"},\"mode\":\"vline\",\"renderers\":[{\"id\":\"16778\"}],\"tooltips\":[[\"pickup_dt\",\"@__x__values_original{%F}\"],[\"predicted_mean\",\"@{predicted_mean}\"]]},\"id\":\"16803\",\"type\":\"HoverTool\"},{\"attributes\":{\"mantissas\":[1,2,5],\"max_interval\":500.0,\"num_minor_ticks\":0},\"id\":\"16755\",\"type\":\"AdaptiveTicker\"},{\"attributes\":{},\"id\":\"16751\",\"type\":\"BasicTickFormatter\"},{\"attributes\":{},\"id\":\"16731\",\"type\":\"WheelZoomTool\"},{\"attributes\":{\"overlay\":{\"id\":\"16736\"}},\"id\":\"16732\",\"type\":\"BoxZoomTool\"},{\"attributes\":{\"months\":[0,2,4,6,8,10]},\"id\":\"16763\",\"type\":\"MonthsTicker\"},{\"attributes\":{\"axis\":{\"id\":\"16722\"},\"ticker\":null},\"id\":\"16725\",\"type\":\"Grid\"},{\"attributes\":{\"months\":[0,4,8]},\"id\":\"16764\",\"type\":\"MonthsTicker\"},{\"attributes\":{\"axis_label\":\"pickup_dt\",\"formatter\":{\"id\":\"16805\"},\"ticker\":{\"id\":\"16723\"}},\"id\":\"16722\",\"type\":\"DatetimeAxis\"},{\"attributes\":{\"months\":[0,1,2,3,4,5,6,7,8,9,10,11]},\"id\":\"16762\",\"type\":\"MonthsTicker\"},{\"attributes\":{\"click_policy\":\"hide\",\"items\":[{\"id\":\"16771\"},{\"id\":\"16802\"}],\"location\":\"bottom_left\"},\"id\":\"16770\",\"type\":\"Legend\"},{\"attributes\":{\"num_minor_ticks\":5,\"tickers\":[{\"id\":\"16755\"},{\"id\":\"16756\"},{\"id\":\"16757\"},{\"id\":\"16758\"},{\"id\":\"16759\"},{\"id\":\"16760\"},{\"id\":\"16761\"},{\"id\":\"16762\"},{\"id\":\"16763\"},{\"id\":\"16764\"},{\"id\":\"16765\"},{\"id\":\"16766\"}]},\"id\":\"16723\",\"type\":\"DatetimeTicker\"},{\"attributes\":{},\"id\":\"16766\",\"type\":\"YearsTicker\"},{\"attributes\":{},\"id\":\"16718\",\"type\":\"LinearScale\"}],\"root_ids\":[\"16711\"]},\"title\":\"Bokeh Application\",\"version\":\"2.2.1\"}};\n",
       "  var render_items = [{\"docid\":\"275cc3cf-3dd9-412f-ad8d-8f5ce730265b\",\"root_ids\":[\"16711\"],\"roots\":{\"16711\":\"40392031-1f7d-4079-b136-8033b9c6135f\"}}];\n",
       "  root.Bokeh.embed.embed_items_notebook(docs_json, render_items);\n",
       "\n",
       "  }\n",
       "  if (root.Bokeh !== undefined) {\n",
       "    embed_document(root);\n",
       "  } else {\n",
       "    var attempts = 0;\n",
       "    var timer = setInterval(function(root) {\n",
       "      if (root.Bokeh !== undefined) {\n",
       "        clearInterval(timer);\n",
       "        embed_document(root);\n",
       "      } else {\n",
       "        attempts++;\n",
       "        if (attempts > 100) {\n",
       "          clearInterval(timer);\n",
       "          console.log(\"Bokeh: ERROR: Unable to run BokehJS code because BokehJS library is missing\");\n",
       "        }\n",
       "      }\n",
       "    }, 10, root)\n",
       "  }\n",
       "})(window);"
      ],
      "application/vnd.bokehjs_exec.v0+json": ""
     },
     "metadata": {
      "application/vnd.bokehjs_exec.v0+json": {
       "id": "16711"
      }
     },
     "output_type": "display_data"
    }
   ],
   "source": [
    "pd.concat([uber_sarimax, pred.predicted_mean], axis=1).plot(\n",
    "    colormap=('blue', 'orange', 'gray', 'gray'), legend='bottom_left');"
   ]
  },
  {
   "cell_type": "code",
   "execution_count": null,
   "metadata": {},
   "outputs": [],
   "source": []
  },
  {
   "cell_type": "code",
   "execution_count": null,
   "metadata": {},
   "outputs": [],
   "source": []
  },
  {
   "cell_type": "code",
   "execution_count": null,
   "metadata": {},
   "outputs": [],
   "source": []
  },
  {
   "cell_type": "code",
   "execution_count": null,
   "metadata": {},
   "outputs": [],
   "source": []
  },
  {
   "cell_type": "code",
   "execution_count": null,
   "metadata": {},
   "outputs": [],
   "source": []
  },
  {
   "cell_type": "code",
   "execution_count": null,
   "metadata": {},
   "outputs": [],
   "source": []
  },
  {
   "cell_type": "code",
   "execution_count": null,
   "metadata": {},
   "outputs": [],
   "source": []
  },
  {
   "cell_type": "code",
   "execution_count": null,
   "metadata": {},
   "outputs": [],
   "source": []
  },
  {
   "cell_type": "code",
   "execution_count": null,
   "metadata": {},
   "outputs": [],
   "source": []
  },
  {
   "cell_type": "code",
   "execution_count": null,
   "metadata": {},
   "outputs": [],
   "source": []
  },
  {
   "cell_type": "code",
   "execution_count": null,
   "metadata": {},
   "outputs": [],
   "source": []
  }
 ],
 "metadata": {
  "kernelspec": {
   "display_name": "Python 3",
   "language": "python",
   "name": "python3"
  },
  "language_info": {
   "codemirror_mode": {
    "name": "ipython",
    "version": 3
   },
   "file_extension": ".py",
   "mimetype": "text/x-python",
   "name": "python",
   "nbconvert_exporter": "python",
   "pygments_lexer": "ipython3",
   "version": "3.7.4"
  }
 },
 "nbformat": 4,
 "nbformat_minor": 2
}
